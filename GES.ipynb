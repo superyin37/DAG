{
 "cells": [
  {
   "cell_type": "code",
   "execution_count": 1,
   "id": "b9492d13",
   "metadata": {},
   "outputs": [
    {
     "name": "stdout",
     "output_type": "stream",
     "text": [
      "Requirement already satisfied: causal-learn in d:\\coding\\anaconda\\lib\\site-packages (0.1.4.3)\n",
      "Requirement already satisfied: numpy in d:\\coding\\anaconda\\lib\\site-packages (from causal-learn) (1.26.4)\n",
      "Requirement already satisfied: scipy in d:\\coding\\anaconda\\lib\\site-packages (from causal-learn) (1.13.1)\n",
      "Requirement already satisfied: scikit-learn in d:\\coding\\anaconda\\lib\\site-packages (from causal-learn) (1.5.1)\n",
      "Requirement already satisfied: graphviz in d:\\coding\\anaconda\\lib\\site-packages (from causal-learn) (0.21)\n",
      "Requirement already satisfied: statsmodels in d:\\coding\\anaconda\\lib\\site-packages (from causal-learn) (0.14.2)\n",
      "Requirement already satisfied: pandas in d:\\coding\\anaconda\\lib\\site-packages (from causal-learn) (2.2.2)\n",
      "Requirement already satisfied: matplotlib in d:\\coding\\anaconda\\lib\\site-packages (from causal-learn) (3.9.2)\n",
      "Requirement already satisfied: networkx in d:\\coding\\anaconda\\lib\\site-packages (from causal-learn) (3.3)\n",
      "Requirement already satisfied: pydot in d:\\coding\\anaconda\\lib\\site-packages (from causal-learn) (4.0.1)\n",
      "Requirement already satisfied: tqdm in d:\\coding\\anaconda\\lib\\site-packages (from causal-learn) (4.66.5)\n",
      "Requirement already satisfied: momentchi2 in d:\\coding\\anaconda\\lib\\site-packages (from causal-learn) (0.1.8)\n",
      "Requirement already satisfied: contourpy>=1.0.1 in d:\\coding\\anaconda\\lib\\site-packages (from matplotlib->causal-learn) (1.2.0)\n",
      "Requirement already satisfied: cycler>=0.10 in d:\\coding\\anaconda\\lib\\site-packages (from matplotlib->causal-learn) (0.11.0)\n",
      "Requirement already satisfied: fonttools>=4.22.0 in d:\\coding\\anaconda\\lib\\site-packages (from matplotlib->causal-learn) (4.51.0)\n",
      "Requirement already satisfied: kiwisolver>=1.3.1 in d:\\coding\\anaconda\\lib\\site-packages (from matplotlib->causal-learn) (1.4.4)\n",
      "Requirement already satisfied: packaging>=20.0 in d:\\coding\\anaconda\\lib\\site-packages (from matplotlib->causal-learn) (24.1)\n",
      "Requirement already satisfied: pillow>=8 in d:\\coding\\anaconda\\lib\\site-packages (from matplotlib->causal-learn) (10.4.0)\n",
      "Requirement already satisfied: pyparsing>=2.3.1 in d:\\coding\\anaconda\\lib\\site-packages (from matplotlib->causal-learn) (3.1.2)\n",
      "Requirement already satisfied: python-dateutil>=2.7 in d:\\coding\\anaconda\\lib\\site-packages (from matplotlib->causal-learn) (2.9.0.post0)\n",
      "Requirement already satisfied: six>=1.5 in d:\\coding\\anaconda\\lib\\site-packages (from python-dateutil>=2.7->matplotlib->causal-learn) (1.16.0)\n",
      "Requirement already satisfied: pytz>=2020.1 in d:\\coding\\anaconda\\lib\\site-packages (from pandas->causal-learn) (2024.1)\n",
      "Requirement already satisfied: tzdata>=2022.7 in d:\\coding\\anaconda\\lib\\site-packages (from pandas->causal-learn) (2023.3)\n",
      "Requirement already satisfied: joblib>=1.2.0 in d:\\coding\\anaconda\\lib\\site-packages (from scikit-learn->causal-learn) (1.4.2)\n",
      "Requirement already satisfied: threadpoolctl>=3.1.0 in d:\\coding\\anaconda\\lib\\site-packages (from scikit-learn->causal-learn) (3.5.0)\n",
      "Requirement already satisfied: patsy>=0.5.6 in d:\\coding\\anaconda\\lib\\site-packages (from statsmodels->causal-learn) (0.5.6)\n",
      "Requirement already satisfied: colorama in d:\\coding\\anaconda\\lib\\site-packages (from tqdm->causal-learn) (0.4.6)\n"
     ]
    },
    {
     "name": "stderr",
     "output_type": "stream",
     "text": [
      "\n",
      "[notice] A new release of pip is available: 25.1.1 -> 25.2\n",
      "[notice] To update, run: python.exe -m pip install --upgrade pip\n"
     ]
    }
   ],
   "source": [
    "!pip install causal-learn"
   ]
  },
  {
   "cell_type": "code",
   "execution_count": 2,
   "id": "deff96f7",
   "metadata": {},
   "outputs": [],
   "source": [
    "from causallearn.search.ScoreBased.GES import ges\n",
    "from causallearn.utils.GraphUtils import GraphUtils\n",
    "import matplotlib.image as mpimg\n",
    "import matplotlib.pyplot as plt\n",
    "import io\n",
    "import numpy as np\n",
    "import SCM_data\n",
    "import synthetic_dataset"
   ]
  },
  {
   "cell_type": "code",
   "execution_count": 3,
   "id": "8fb8fba8",
   "metadata": {},
   "outputs": [
    {
     "name": "stdout",
     "output_type": "stream",
     "text": [
      "SCM 1 : 1.0\n",
      "SCM 2 : 1.0\n",
      "SCM 3 : 1.0\n",
      "SCM 4 : 1.0\n",
      "SCM 5 : 1.0\n"
     ]
    }
   ],
   "source": [
    "times = 100\n",
    "for i in range(1, 6):\n",
    "    true_count = [0] * 6\n",
    "    for j in range(times):\n",
    "\n",
    "        X, Y, Z, G_true, CPDAG = SCM_data.generate_scm_data(i, n_samples=10000)\n",
    "\n",
    "        data = np.array([X, Y, Z]).T\n",
    "        Record = ges(data)\n",
    "        # equals\n",
    "        if np.array_equal(CPDAG, Record['G'].graph): true_count[i-1] += 1\n",
    "    print(f\"SCM {i} : {true_count[i-1]/times}\")"
   ]
  },
  {
   "cell_type": "code",
   "execution_count": 10,
   "id": "94ba5ae4",
   "metadata": {},
   "outputs": [
    {
     "name": "stdout",
     "output_type": "stream",
     "text": [
      "[[ 0 -1  0]\n",
      " [ 1  0  1]\n",
      " [ 0 -1  0]]\n",
      "[[0 1 0]\n",
      " [0 0 0]\n",
      " [0 1 0]]\n"
     ]
    }
   ],
   "source": [
    "G_true = np.array([[0,1,0],[0,0,0],[0,1,0]])\n",
    "X = synthetic_dataset.dataset_based_on_B(G_true,1000,1,'gaussian_ev')\n",
    "Record = ges(X)\n",
    "print(Record[\"G\"].graph)\n",
    "print(G_true)"
   ]
  },
  {
   "cell_type": "code",
   "execution_count": null,
   "id": "73f5b3c9",
   "metadata": {},
   "outputs": [],
   "source": []
  }
 ],
 "metadata": {
  "kernelspec": {
   "display_name": "base",
   "language": "python",
   "name": "python3"
  },
  "language_info": {
   "codemirror_mode": {
    "name": "ipython",
    "version": 3
   },
   "file_extension": ".py",
   "mimetype": "text/x-python",
   "name": "python",
   "nbconvert_exporter": "python",
   "pygments_lexer": "ipython3",
   "version": "3.12.3"
  }
 },
 "nbformat": 4,
 "nbformat_minor": 5
}
