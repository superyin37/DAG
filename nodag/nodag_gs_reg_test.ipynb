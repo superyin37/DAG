{
 "cells": [
  {
   "cell_type": "code",
   "execution_count": 2,
   "id": "19783b17",
   "metadata": {},
   "outputs": [
    {
     "name": "stdout",
     "output_type": "stream",
     "text": [
      "c:\\Users\\super\\DAG\\nodag\n"
     ]
    },
    {
     "ename": "ImportError",
     "evalue": "cannot import name 'nodag_findbest_loss_reg' from 'nodag.nodag_gs_findbest' (c:\\Users\\super\\DAG\\nodag\\nodag_gs_findbest.py)",
     "output_type": "error",
     "traceback": [
      "\u001b[1;31m---------------------------------------------------------------------------\u001b[0m",
      "\u001b[1;31mImportError\u001b[0m                               Traceback (most recent call last)",
      "Cell \u001b[1;32mIn[2], line 12\u001b[0m\n\u001b[0;32m      9\u001b[0m \u001b[38;5;28mprint\u001b[39m(os\u001b[38;5;241m.\u001b[39mgetcwd())\n\u001b[0;32m     11\u001b[0m \u001b[38;5;28;01mfrom\u001b[39;00m \u001b[38;5;21;01mnodag\u001b[39;00m\u001b[38;5;21;01m.\u001b[39;00m\u001b[38;5;21;01mnodag_gumbel_softmax\u001b[39;00m \u001b[38;5;28;01mimport\u001b[39;00m train_gumbel_sgd\n\u001b[1;32m---> 12\u001b[0m \u001b[38;5;28;01mfrom\u001b[39;00m \u001b[38;5;21;01mnodag\u001b[39;00m\u001b[38;5;21;01m.\u001b[39;00m\u001b[38;5;21;01mnodag_gs_findbest\u001b[39;00m \u001b[38;5;28;01mimport\u001b[39;00m nodag_findbest_loss, nodag_findbest_loss_reg, nodag_findbest_loss_reg_reset, nodag_findbest_likelihood_penalty\n",
      "\u001b[1;31mImportError\u001b[0m: cannot import name 'nodag_findbest_loss_reg' from 'nodag.nodag_gs_findbest' (c:\\Users\\super\\DAG\\nodag\\nodag_gs_findbest.py)"
     ]
    }
   ],
   "source": [
    "import sys, os\n",
    "import numpy as np\n",
    "from numpy.linalg import LinAlgError, inv\n",
    "from scipy.linalg import sqrtm\n",
    "\n",
    "sys.path.append(os.path.abspath(os.path.join(os.getcwd(), \"..\")))\n",
    "sys.path.append(r\"C:\\Users\\super\\DAG\")\n",
    "os.environ[\"KMP_DUPLICATE_LIB_OK\"] = \"TRUE\"\n",
    "print(os.getcwd())\n",
    "\n",
    "from nodag.nodag_gumbel_softmax import train_gumbel_sgd\n",
    "from nodag.nodag_gs_findbest import nodag_findbest_loss, nodag_findbest_loss_reg, nodag_findbest_loss_reg_reset, nodag_findbest_likelihood_penalty\n"
   ]
  },
  {
   "cell_type": "markdown",
   "id": "0bb31d7b",
   "metadata": {},
   "source": [
    "## Test Regularization on ONE Graph Without Findbest"
   ]
  },
  {
   "cell_type": "code",
   "execution_count": null,
   "id": "17f4f322",
   "metadata": {},
   "outputs": [
    {
     "name": "stdout",
     "output_type": "stream",
     "text": [
      "random seed =  7\n"
     ]
    }
   ],
   "source": [
    "from torch.utils.data import Dataset\n",
    "\n",
    "from synthetic_dataset import SyntheticDataset\n",
    "from synthetic_dataset import dataset_based_on_B\n",
    "\n",
    "seed = 7\n",
    "n, d = 10000, 4\n",
    "graph_type, degree = 'ER', 1    # ER1 graph\n",
    "B_scale = 1.0\n",
    "noise_type = 'gaussian_ev'\n",
    "print(\"random seed = \", seed)\n",
    "\n",
    "Dataset = SyntheticDataset(n, d, graph_type, degree,\n",
    "                        noise_type, B_scale, seed=seed)\n",
    "data = Dataset.X\n",
    "B_true = Dataset.B\n",
    "G_true = Dataset.B_bin\n",
    "\n",
    "R_hat = np.cov(data.T)\n",
    "d = R_hat.shape[0]\n",
    "Omega_true = np.eye(d)\n",
    "Theta_hat = inv(R_hat)\n",
    "\n",
    "A_true = np.eye(d) - B_true\n",
    "# print(\"A_true = \\n\",A_true)\n",
    "likelihood_true = - 2 * np.log(np.linalg.det(A_true)) + np.trace(A_true.T @ R_hat @ A_true)\n",
    "\n",
    "best_G, best_B,best_P,best_U, best_loss, best_likelihood, best_penalty, best_seed = nodag_findbest_loss(R_hat = R_hat,lam = 0.5, tau_start=0.2, tau_end=0.2, times = 300)\n",
    "\n",
    "\n",
    "print(\"likelihood_true = \", likelihood_true)\n",
    "print(\"G_true = \\n\", G_true)\n",
    "print(\"G_est = \\n\", best_G)\n",
    "print(\"P = \\n\",best_P)\n",
    "print(\"U = \\n\",best_U)\n",
    "# print(\"Is in MEC: \", MEC.is_in_markov_equiv_class(G_true, best_B))\n",
    "print(\"Final Loss = \", best_loss)\n",
    "print(\"Final penalty = \", best_penalty)\n",
    "print(\"Final likelihood = \", best_likelihood)\n",
    "print(\"seed = \", best_seed)\n",
    "print(\"\")\n"
   ]
  },
  {
   "cell_type": "code",
   "execution_count": null,
   "id": "de672739",
   "metadata": {},
   "outputs": [],
   "source": [
    "# reg\n",
    "from torch.utils.data import Dataset\n",
    "\n",
    "from synthetic_dataset import SyntheticDataset\n",
    "from synthetic_dataset import dataset_based_on_B\n",
    "\n",
    "seed = 7\n",
    "n, d = 10000, 4\n",
    "graph_type, degree = 'ER', 1    # ER1 graph\n",
    "B_scale = 1.0\n",
    "noise_type = 'gaussian_ev'\n",
    "print(\"random seed = \", seed)\n",
    "\n",
    "Dataset = SyntheticDataset(n, d, graph_type, degree,\n",
    "                        noise_type, B_scale, seed=seed)\n",
    "data = Dataset.X\n",
    "B_true = Dataset.B\n",
    "G_true = Dataset.B_bin\n",
    "\n",
    "R_hat = np.cov(data.T)\n",
    "d = R_hat.shape[0]\n",
    "Omega_true = np.eye(d)\n",
    "Theta_hat = inv(R_hat)\n",
    "\n",
    "A_true = np.eye(d) - B_true\n",
    "# print(\"A_true = \\n\",A_true)\n",
    "likelihood_true = - 2 * np.log(np.linalg.det(A_true)) + np.trace(A_true.T @ R_hat @ A_true)\n",
    "\n",
    "best_G, best_B,best_P,best_U, best_loss, best_likelihood, best_penalty, best_seed = nodag_findbest_loss_reg(R_hat = R_hat,lam = 0.5, tau_start=0.2, tau_end=0.2, times = 300)\n",
    "\n",
    "\n",
    "print(\"likelihood_true = \", likelihood_true)\n",
    "print(\"G_true = \\n\", G_true)\n",
    "print(\"G_est = \\n\", best_G)\n",
    "print(\"P = \\n\",best_P)\n",
    "print(\"U = \\n\",best_U)\n",
    "# print(\"Is in MEC: \", MEC.is_in_markov_equiv_class(G_true, best_B))\n",
    "print(\"Final Loss = \", best_loss)\n",
    "print(\"Final penalty = \", best_penalty)\n",
    "print(\"Final likelihood = \", best_likelihood)\n",
    "print(\"seed = \", best_seed)\n",
    "print(\"\")\n"
   ]
  },
  {
   "cell_type": "code",
   "execution_count": null,
   "id": "2f7bcf31",
   "metadata": {},
   "outputs": [],
   "source": [
    "# reg reset\n",
    "from torch.utils.data import Dataset\n",
    "\n",
    "from synthetic_dataset import SyntheticDataset\n",
    "from synthetic_dataset import dataset_based_on_B\n",
    "\n",
    "seed = 7\n",
    "n, d = 10000, 4\n",
    "graph_type, degree = 'ER', 1    # ER1 graph\n",
    "B_scale = 1.0\n",
    "noise_type = 'gaussian_ev'\n",
    "print(\"random seed = \", seed)\n",
    "\n",
    "Dataset = SyntheticDataset(n, d, graph_type, degree,\n",
    "                        noise_type, B_scale, seed=seed)\n",
    "data = Dataset.X\n",
    "B_true = Dataset.B\n",
    "G_true = Dataset.B_bin\n",
    "\n",
    "R_hat = np.cov(data.T)\n",
    "d = R_hat.shape[0]\n",
    "Omega_true = np.eye(d)\n",
    "Theta_hat = inv(R_hat)\n",
    "\n",
    "A_true = np.eye(d) - B_true\n",
    "# print(\"A_true = \\n\",A_true)\n",
    "likelihood_true = - 2 * np.log(np.linalg.det(A_true)) + np.trace(A_true.T @ R_hat @ A_true)\n",
    "\n",
    "best_G, best_B,best_P,best_U, best_loss, best_likelihood, best_penalty, best_seed = nodag_findbest_loss_reg_reset(R_hat = R_hat,lam = 0.5, tau_start=0.2, tau_end=0.2, times = 300)\n",
    "\n",
    "\n",
    "print(\"likelihood_true = \", likelihood_true)\n",
    "print(\"G_true = \\n\", G_true)\n",
    "print(\"G_est = \\n\", best_G)\n",
    "print(\"P = \\n\",best_P)\n",
    "print(\"U = \\n\",best_U)\n",
    "# print(\"Is in MEC: \", MEC.is_in_markov_equiv_class(G_true, best_B))\n",
    "print(\"Final Loss = \", best_loss)\n",
    "print(\"Final penalty = \", best_penalty)\n",
    "print(\"Final likelihood = \", best_likelihood)\n",
    "print(\"seed = \", best_seed)\n",
    "print(\"\")\n"
   ]
  },
  {
   "cell_type": "code",
   "execution_count": null,
   "id": "a186b32f",
   "metadata": {},
   "outputs": [],
   "source": []
  }
 ],
 "metadata": {
  "kernelspec": {
   "display_name": "base",
   "language": "python",
   "name": "python3"
  },
  "language_info": {
   "codemirror_mode": {
    "name": "ipython",
    "version": 3
   },
   "file_extension": ".py",
   "mimetype": "text/x-python",
   "name": "python",
   "nbconvert_exporter": "python",
   "pygments_lexer": "ipython3",
   "version": "3.12.3"
  }
 },
 "nbformat": 4,
 "nbformat_minor": 5
}
