{
 "cells": [
  {
   "cell_type": "code",
   "execution_count": null,
   "id": "0177a5bf",
   "metadata": {
    "execution": {
     "iopub.execute_input": "2025-09-25T09:53:52.608204Z",
     "iopub.status.busy": "2025-09-25T09:53:52.607484Z",
     "iopub.status.idle": "2025-09-25T09:53:52.628953Z",
     "shell.execute_reply": "2025-09-25T09:53:52.626948Z"
    }
   },
   "outputs": [
    {
     "name": "stdout",
     "output_type": "stream",
     "text": [
      "/home/yin/DAG\n"
     ]
    }
   ],
   "source": [
    "import sys, os\n",
    "sys.path.append(os.path.abspath(os.path.join(os.getcwd(), \"..\")))\n",
    "os.environ[\"KMP_DUPLICATE_LIB_OK\"] = \"TRUE\"\n",
    "os.chdir(\"/home/yin/DAG\")\n",
    "print(os.getcwd())"
   ]
  },
  {
   "cell_type": "code",
   "execution_count": 2,
   "id": "2f898506",
   "metadata": {
    "execution": {
     "iopub.execute_input": "2025-09-25T09:53:52.635514Z",
     "iopub.status.busy": "2025-09-25T09:53:52.635019Z",
     "iopub.status.idle": "2025-09-25T09:53:54.527934Z",
     "shell.execute_reply": "2025-09-25T09:53:54.526727Z"
    }
   },
   "outputs": [],
   "source": [
    "import torch\n",
    "import torch.nn as nn\n",
    "from torch.optim import Adam, LBFGS\n",
    "from nodag.nodag_gumbel_softmax import train_gumbel_sgd\n",
    "from SCM_data import generate_scm_data\n",
    "import numpy as np\n",
    "from numpy.linalg import LinAlgError, inv\n",
    "from scipy.linalg import sqrtm\n",
    "import MEC\n",
    "import os\n",
    "os.environ[\"KMP_DUPLICATE_LIB_OK\"] = \"TRUE\""
   ]
  },
  {
   "cell_type": "code",
   "execution_count": 3,
   "id": "252fddcf",
   "metadata": {
    "execution": {
     "iopub.execute_input": "2025-09-25T09:53:54.533669Z",
     "iopub.status.busy": "2025-09-25T09:53:54.533202Z",
     "iopub.status.idle": "2025-09-25T09:53:54.540825Z",
     "shell.execute_reply": "2025-09-25T09:53:54.539850Z"
    }
   },
   "outputs": [],
   "source": [
    "def nodag_findbest_loss(R_hat, lam=0.5, delta=1e-6, max_steps=5000, tau_start=0.2, tau_end=0.2, times=100):\n",
    "    best_loss = np.inf\n",
    "    best_seed = 0\n",
    "    for t in range(times):\n",
    "        # if t % (times // 10) == 0:\n",
    "        #     percent = int(t / times * 100)\n",
    "        #     print(f\"Progress: {percent}%\")\n",
    "        seed = t\n",
    "        np.random.seed(seed) \n",
    "        B_init = np.random.randn(*R_hat.shape)\n",
    "        B_final,G_final, info = train_gumbel_sgd(\n",
    "            Rhat_np = R_hat,\n",
    "            lam = lam,\n",
    "            delta = delta,\n",
    "            max_steps = max_steps,\n",
    "            tau_start = tau_start,\n",
    "            tau_end = tau_end,\n",
    "            B_init = B_init\n",
    "            )\n",
    "        if info[\"final_loss\"] < best_loss:\n",
    "            best_loss = info[\"final_loss\"]\n",
    "            best_likelihood = info[\"final_likelihood\"]\n",
    "            best_penalty = info[\"final_penalty\"]\n",
    "            best_seed = seed\n",
    "            best_G = G_final\n",
    "            best_B = B_final\n",
    "    return best_G, best_B, best_loss, best_likelihood, best_penalty, best_seed"
   ]
  },
  {
   "cell_type": "code",
   "execution_count": 4,
   "id": "17746c2e",
   "metadata": {
    "execution": {
     "iopub.execute_input": "2025-09-25T09:53:54.544619Z",
     "iopub.status.busy": "2025-09-25T09:53:54.544378Z",
     "iopub.status.idle": "2025-09-25T09:53:54.552659Z",
     "shell.execute_reply": "2025-09-25T09:53:54.551728Z"
    }
   },
   "outputs": [],
   "source": [
    "def nodag_findbest_likelihood_penalty(\n",
    "    R_hat, lam=0.5, delta=1e-6, max_steps=5000,\n",
    "    tau_start=0.2, tau_end=0.2, times=100, eps=1e-3\n",
    "):\n",
    "    results = []\n",
    "    for t in range(times):\n",
    "        seed = t\n",
    "        np.random.seed(seed)\n",
    "        B_init = np.random.randn(*R_hat.shape)\n",
    "        if t % 100 == 0: print(\"t = \",t)\n",
    "\n",
    "        B_final, G_final, info = train_gumbel_sgd(\n",
    "            Rhat_np=R_hat,\n",
    "            lam=lam,\n",
    "            delta=delta,\n",
    "            max_steps=max_steps,\n",
    "            tau_start=tau_start,\n",
    "            tau_end=tau_end,\n",
    "            B_init=B_init\n",
    "        )\n",
    "\n",
    "        results.append({\n",
    "            \"seed\": seed,\n",
    "            \"G\": G_final,\n",
    "            \"B\": B_final,\n",
    "            \"loss\": info[\"final_loss\"],\n",
    "            \"likelihood\": info[\"final_likelihood\"],\n",
    "            \"penalty\": info[\"final_penalty\"],\n",
    "        })\n",
    "\n",
    "    min_likelihood = min(r[\"likelihood\"] for r in results)\n",
    "\n",
    "    candidates = [\n",
    "        r for r in results\n",
    "        if abs(r[\"likelihood\"] - min_likelihood) <= eps\n",
    "    ]\n",
    "\n",
    "    best = min(candidates, key=lambda r: r[\"penalty\"])\n",
    "\n",
    "    return (\n",
    "        best[\"G\"], best[\"B\"],\n",
    "        best[\"loss\"], best[\"likelihood\"],\n",
    "        best[\"penalty\"], best[\"seed\"]\n",
    "    )"
   ]
  },
  {
   "cell_type": "code",
   "execution_count": 5,
   "id": "c9ac02ca",
   "metadata": {
    "execution": {
     "iopub.execute_input": "2025-09-25T09:53:54.556250Z",
     "iopub.status.busy": "2025-09-25T09:53:54.556014Z",
     "iopub.status.idle": "2025-09-25T09:53:54.560239Z",
     "shell.execute_reply": "2025-09-25T09:53:54.559349Z"
    }
   },
   "outputs": [],
   "source": [
    "# # ER1, find best loss\n",
    "\n",
    "# from torch.utils.data import Dataset\n",
    "\n",
    "# from synthetic_dataset import SyntheticDataset\n",
    "# from synthetic_dataset import dataset_based_on_B\n",
    "\n",
    "# seed = 1\n",
    "# # Load dataset\n",
    "# n, d = 10000, 4\n",
    "# graph_type, degree = 'ER', 1    # ER1 graph\n",
    "# B_scale = 1.0\n",
    "# noise_type = 'gaussian_ev'\n",
    "\n",
    "# Dataset = SyntheticDataset(n, d, graph_type, degree,\n",
    "#                         noise_type, B_scale, seed=seed)\n",
    "# data = Dataset.X\n",
    "# B_true = Dataset.B\n",
    "# G_true = Dataset.B_bin\n",
    "\n",
    "# R_hat = np.cov(data.T)\n",
    "# d = R_hat.shape[0]\n",
    "# Omega_true = np.eye(d)\n",
    "# Theta_hat = inv(R_hat)\n",
    "\n",
    "# A_true = np.eye(d) - B_true\n",
    "# # print(\"A_true = \\n\",A_true)\n",
    "# likelihood_true = - 2 * np.log(np.linalg.det(A_true)) + np.trace(A_true.T @ R_hat @ A_true)\n",
    "\n",
    "\n",
    "# best_G, best_B, best_loss, best_likelihood, best_penalty, best_seed = nodag_findbest_loss(R_hat = R_hat, times = 10)\n",
    "\n",
    "\n",
    "# print(\"random seed = \", seed)\n",
    "# print(\"likelihood_true = \", likelihood_true)\n",
    "# print(\"G_true = \\n\", G_true)\n",
    "# print(\"G_est = \\n\", best_G)\n",
    "# # print(\"Is in MEC: \", MEC.is_in_markov_equiv_class(G_true, best_B))\n",
    "# print(\"Final Loss = \", best_loss)\n",
    "# print(\"Final penalty = \", best_penalty)\n",
    "# print(\"Final likelihood = \", best_likelihood)\n",
    "# print(\"seed = \", best_seed)\n",
    "# print(\"\")"
   ]
  },
  {
   "cell_type": "code",
   "execution_count": 6,
   "id": "356c517a",
   "metadata": {
    "execution": {
     "iopub.execute_input": "2025-09-25T09:53:54.563558Z",
     "iopub.status.busy": "2025-09-25T09:53:54.563323Z",
     "iopub.status.idle": "2025-09-25T09:53:54.567486Z",
     "shell.execute_reply": "2025-09-25T09:53:54.566614Z"
    }
   },
   "outputs": [],
   "source": [
    "# # ER1, find best penalty in best likelihoods\n",
    "\n",
    "# from torch.utils.data import Dataset\n",
    "\n",
    "# from synthetic_dataset import SyntheticDataset\n",
    "# from synthetic_dataset import dataset_based_on_B\n",
    "\n",
    "# seed = 1\n",
    "# # Load dataset\n",
    "# n, d = 10000, 4\n",
    "# graph_type, degree = 'ER', 1    # ER1 graph\n",
    "# B_scale = 1.0\n",
    "# noise_type = 'gaussian_ev'\n",
    "\n",
    "# Dataset = SyntheticDataset(n, d, graph_type, degree,\n",
    "#                         noise_type, B_scale, seed=seed)\n",
    "# data = Dataset.X\n",
    "# B_true = Dataset.B\n",
    "# G_true = Dataset.B_bin\n",
    "\n",
    "# R_hat = np.cov(data.T)\n",
    "# d = R_hat.shape[0]\n",
    "# Omega_true = np.eye(d)\n",
    "# Theta_hat = inv(R_hat)\n",
    "\n",
    "# A_true = np.eye(d) - B_true\n",
    "# # print(\"A_true = \\n\",A_true)\n",
    "# likelihood_true = - 2 * np.log(np.linalg.det(A_true)) + np.trace(A_true.T @ R_hat @ A_true)\n",
    "\n",
    "\n",
    "# best_G, best_B, best_loss, best_likelihood, best_penalty, best_seed = nodag_findbest_likelihood_penalty(R_hat = R_hat, times = 500)\n",
    "\n",
    "\n",
    "# print(\"random seed = \", seed)\n",
    "# print(\"likelihood_true = \", likelihood_true)\n",
    "# print(\"G_true = \\n\", G_true)\n",
    "# print(\"G_est = \\n\", best_G)\n",
    "# # print(\"Is in MEC: \", MEC.is_in_markov_equiv_class(G_true, best_B))\n",
    "# print(\"Final Loss = \", best_loss)\n",
    "# print(\"Final penalty = \", best_penalty)\n",
    "# print(\"Final likelihood = \", best_likelihood)\n",
    "# print(\"seed = \", best_seed)\n",
    "# print(\"\")"
   ]
  },
  {
   "cell_type": "code",
   "execution_count": 7,
   "id": "17f4f322",
   "metadata": {
    "execution": {
     "iopub.execute_input": "2025-09-25T09:53:54.570661Z",
     "iopub.status.busy": "2025-09-25T09:53:54.570427Z",
     "iopub.status.idle": "2025-09-25T09:53:54.574566Z",
     "shell.execute_reply": "2025-09-25T09:53:54.573714Z"
    }
   },
   "outputs": [],
   "source": [
    "# # Find best loss, seed0-9\n",
    "\n",
    "# from torch.utils.data import Dataset\n",
    "\n",
    "# from synthetic_dataset import SyntheticDataset\n",
    "# from synthetic_dataset import dataset_based_on_B\n",
    "\n",
    "# for seed in range(10):\n",
    "#     # Load dataset\n",
    "#     n, d = 10000, 4\n",
    "#     graph_type, degree = 'ER', 1    # ER1 graph\n",
    "#     B_scale = 1.0\n",
    "#     noise_type = 'gaussian_ev'\n",
    "\n",
    "#     Dataset = SyntheticDataset(n, d, graph_type, degree,\n",
    "#                             noise_type, B_scale, seed=seed)\n",
    "#     data = Dataset.X\n",
    "#     B_true = Dataset.B\n",
    "#     G_true = Dataset.B_bin\n",
    "\n",
    "#     R_hat = np.cov(data.T)\n",
    "#     d = R_hat.shape[0]\n",
    "#     Omega_true = np.eye(d)\n",
    "#     Theta_hat = inv(R_hat)\n",
    "\n",
    "#     A_true = np.eye(d) - B_true\n",
    "#     # print(\"A_true = \\n\",A_true)\n",
    "#     likelihood_true = - 2 * np.log(np.linalg.det(A_true)) + np.trace(A_true.T @ R_hat @ A_true)\n",
    "\n",
    "\n",
    "#     best_G, best_B, best_loss, best_likelihood, best_penalty, best_seed = nodag_findbest_loss(R_hat = R_hat, times = 300)\n",
    "\n",
    "#     print(\"random seed = \", seed)\n",
    "#     print(\"likelihood_true = \", likelihood_true)\n",
    "#     print(\"G_true = \\n\", G_true)\n",
    "#     print(\"G_est = \\n\", best_G)\n",
    "#     # print(\"Is in MEC: \", MEC.is_in_markov_equiv_class(G_true, best_B))\n",
    "#     print(\"Final Loss = \", best_loss)\n",
    "#     print(\"Final penalty = \", best_penalty)\n",
    "#     print(\"Final likelihood = \", best_likelihood)\n",
    "#     print(\"seed = \", best_seed)\n",
    "#     print(\"\")"
   ]
  },
  {
   "cell_type": "code",
   "execution_count": 8,
   "id": "d5ad621c",
   "metadata": {
    "execution": {
     "iopub.execute_input": "2025-09-25T09:53:54.577741Z",
     "iopub.status.busy": "2025-09-25T09:53:54.577491Z",
     "iopub.status.idle": "2025-09-25T12:24:20.673552Z",
     "shell.execute_reply": "2025-09-25T12:24:20.672479Z"
    }
   },
   "outputs": [
    {
     "name": "stdout",
     "output_type": "stream",
     "text": [
      "t =  0\n"
     ]
    },
    {
     "name": "stderr",
     "output_type": "stream",
     "text": [
      "/home/yin/.venv/lib/python3.8/site-packages/torch/autograd/__init__.py:200: UserWarning: CUDA initialization: Unexpected error from cudaGetDeviceCount(). Did you run some cuda functions before calling NumCudaDevices() that might have already set an error? Error 804: forward compatibility was attempted on non supported HW (Triggered internally at ../c10/cuda/CUDAFunctions.cpp:109.)\n",
      "  Variable._execution_engine.run_backward(  # Calls into the C++ engine to run the backward pass\n"
     ]
    },
    {
     "name": "stdout",
     "output_type": "stream",
     "text": [
      "t =  100\n"
     ]
    },
    {
     "name": "stdout",
     "output_type": "stream",
     "text": [
      "t =  200\n"
     ]
    },
    {
     "name": "stdout",
     "output_type": "stream",
     "text": [
      "random seed =  0\n",
      "likelihood_true =  3.9726462866418295\n",
      "G_true = \n",
      " [[0. 0. 0. 0.]\n",
      " [0. 0. 0. 0.]\n",
      " [0. 0. 0. 0.]\n",
      " [0. 0. 0. 0.]]\n",
      "G_est = \n",
      " [[-1.  0.  0.  1.]\n",
      " [ 0.  0.  0.  0.]\n",
      " [ 0.  0.  0.  0.]\n",
      " [ 1.  0.  0. -1.]]\n",
      "Final Loss =  4.9720383387461675\n",
      "Final penalty =  1.000000000002756\n",
      "Final likelihood =  3.9720383387434115\n",
      "seed =  202\n",
      "\n",
      "t =  0\n"
     ]
    },
    {
     "name": "stdout",
     "output_type": "stream",
     "text": [
      "t =  100\n"
     ]
    },
    {
     "name": "stdout",
     "output_type": "stream",
     "text": [
      "t =  200\n"
     ]
    },
    {
     "name": "stdout",
     "output_type": "stream",
     "text": [
      "random seed =  1\n",
      "likelihood_true =  3.997476087238036\n",
      "G_true = \n",
      " [[0. 1. 1. 1.]\n",
      " [0. 0. 0. 1.]\n",
      " [0. 0. 0. 0.]\n",
      " [0. 0. 0. 0.]]\n",
      "G_est = \n",
      " [[ 0.  1.  1.  0.]\n",
      " [ 1.  0.  0.  1.]\n",
      " [ 0.  0.  0.  0.]\n",
      " [ 1.  0.  0. -1.]]\n",
      "Final Loss =  6.4970469769151205\n",
      "Final penalty =  2.500000000000619\n",
      "Final likelihood =  3.9970469769145014\n",
      "seed =  46\n",
      "\n",
      "t =  0\n"
     ]
    },
    {
     "name": "stdout",
     "output_type": "stream",
     "text": [
      "t =  100\n"
     ]
    },
    {
     "name": "stdout",
     "output_type": "stream",
     "text": [
      "t =  200\n"
     ]
    },
    {
     "name": "stdout",
     "output_type": "stream",
     "text": [
      "random seed =  2\n",
      "likelihood_true =  4.014033534766716\n",
      "G_true = \n",
      " [[0. 0. 0. 0.]\n",
      " [1. 0. 0. 0.]\n",
      " [0. 0. 0. 0.]\n",
      " [0. 1. 0. 0.]]\n",
      "G_est = \n",
      " [[0. 0. 0. 0.]\n",
      " [1. 0. 0. 1.]\n",
      " [0. 0. 0. 0.]\n",
      " [0. 0. 0. 0.]]\n",
      "Final Loss =  5.513029638465548\n",
      "Final penalty =  1.5000000000089213\n",
      "Final likelihood =  4.0130296384566275\n",
      "seed =  245\n",
      "\n",
      "t =  0\n"
     ]
    },
    {
     "name": "stdout",
     "output_type": "stream",
     "text": [
      "t =  100\n"
     ]
    },
    {
     "name": "stdout",
     "output_type": "stream",
     "text": [
      "t =  200\n"
     ]
    },
    {
     "name": "stdout",
     "output_type": "stream",
     "text": [
      "random seed =  3\n",
      "likelihood_true =  4.015567983479475\n",
      "G_true = \n",
      " [[0. 0. 0. 0.]\n",
      " [0. 0. 1. 0.]\n",
      " [0. 0. 0. 0.]\n",
      " [0. 0. 0. 0.]]\n",
      "G_est = \n",
      " [[0. 0. 0. 0.]\n",
      " [0. 0. 0. 0.]\n",
      " [0. 1. 0. 0.]\n",
      " [0. 0. 0. 0.]]\n",
      "Final Loss =  5.015406331625063\n",
      "Final penalty =  1.0000000000038678\n",
      "Final likelihood =  4.015406331621195\n",
      "seed =  277\n",
      "\n",
      "t =  0\n"
     ]
    },
    {
     "name": "stdout",
     "output_type": "stream",
     "text": [
      "t =  100\n"
     ]
    },
    {
     "name": "stdout",
     "output_type": "stream",
     "text": [
      "t =  200\n"
     ]
    },
    {
     "name": "stdout",
     "output_type": "stream",
     "text": [
      "random seed =  4\n",
      "likelihood_true =  4.004961411735739\n",
      "G_true = \n",
      " [[0. 0. 0. 0.]\n",
      " [0. 0. 0. 0.]\n",
      " [0. 0. 0. 0.]\n",
      " [0. 1. 0. 0.]]\n",
      "G_est = \n",
      " [[-1.  0.  0.  1.]\n",
      " [ 1.  0.  0.  0.]\n",
      " [ 0.  0.  0.  0.]\n",
      " [ 1.  0.  0. -1.]]\n",
      "Final Loss =  5.504295649122173\n",
      "Final penalty =  1.4999999997374627\n",
      "Final likelihood =  4.00429564938471\n",
      "seed =  202\n",
      "\n",
      "t =  0\n"
     ]
    },
    {
     "name": "stdout",
     "output_type": "stream",
     "text": [
      "t =  100\n"
     ]
    },
    {
     "name": "stdout",
     "output_type": "stream",
     "text": [
      "t =  200\n"
     ]
    },
    {
     "name": "stdout",
     "output_type": "stream",
     "text": [
      "random seed =  5\n",
      "likelihood_true =  3.973599520414441\n",
      "G_true = \n",
      " [[0. 0. 0. 0.]\n",
      " [0. 0. 0. 0.]\n",
      " [0. 1. 0. 0.]\n",
      " [0. 1. 0. 0.]]\n",
      "G_est = \n",
      " [[0. 0. 0. 0.]\n",
      " [0. 0. 0. 0.]\n",
      " [0. 1. 0. 0.]\n",
      " [0. 1. 0. 0.]]\n",
      "Final Loss =  5.4729347559668575\n",
      "Final penalty =  1.5000000000014717\n",
      "Final likelihood =  3.9729347559653863\n",
      "seed =  180\n",
      "\n",
      "t =  0\n"
     ]
    },
    {
     "name": "stdout",
     "output_type": "stream",
     "text": [
      "t =  100\n"
     ]
    },
    {
     "name": "stdout",
     "output_type": "stream",
     "text": [
      "t =  200\n"
     ]
    },
    {
     "name": "stdout",
     "output_type": "stream",
     "text": [
      "random seed =  6\n",
      "likelihood_true =  3.997460719980812\n",
      "G_true = \n",
      " [[0. 0. 0. 0.]\n",
      " [1. 0. 1. 0.]\n",
      " [0. 0. 0. 0.]\n",
      " [0. 0. 1. 0.]]\n",
      "G_est = \n",
      " [[0. 1. 0. 0.]\n",
      " [0. 0. 1. 0.]\n",
      " [0. 0. 0. 0.]\n",
      " [0. 0. 1. 0.]]\n",
      "Final Loss =  5.997023159681582\n",
      "Final penalty =  2.000000000000277\n",
      "Final likelihood =  3.9970231596813046\n",
      "seed =  223\n",
      "\n",
      "t =  0\n"
     ]
    },
    {
     "name": "stdout",
     "output_type": "stream",
     "text": [
      "t =  100\n"
     ]
    },
    {
     "name": "stdout",
     "output_type": "stream",
     "text": [
      "t =  200\n"
     ]
    },
    {
     "name": "stdout",
     "output_type": "stream",
     "text": [
      "random seed =  7\n",
      "likelihood_true =  4.012593526854014\n",
      "G_true = \n",
      " [[0. 0. 0. 0.]\n",
      " [0. 0. 0. 0.]\n",
      " [0. 0. 0. 0.]\n",
      " [0. 0. 1. 0.]]\n",
      "G_est = \n",
      " [[0. 0. 0. 0.]\n",
      " [0. 0. 0. 0.]\n",
      " [0. 0. 0. 0.]\n",
      " [0. 0. 1. 0.]]\n",
      "Final Loss =  5.512191080996517\n",
      "Final penalty =  1.5000000000013352\n",
      "Final likelihood =  4.012191080995182\n",
      "seed =  223\n",
      "\n",
      "t =  0\n"
     ]
    },
    {
     "name": "stdout",
     "output_type": "stream",
     "text": [
      "t =  100\n"
     ]
    },
    {
     "name": "stdout",
     "output_type": "stream",
     "text": [
      "t =  200\n"
     ]
    },
    {
     "name": "stdout",
     "output_type": "stream",
     "text": [
      "random seed =  8\n",
      "likelihood_true =  4.0168716736969206\n",
      "G_true = \n",
      " [[0. 0. 0. 0.]\n",
      " [1. 0. 0. 1.]\n",
      " [0. 0. 0. 0.]\n",
      " [0. 0. 0. 0.]]\n",
      "G_est = \n",
      " [[-1.  1.  0.  1.]\n",
      " [ 1.  0.  0.  0.]\n",
      " [ 0.  0.  0.  0.]\n",
      " [ 1.  0.  0. -1.]]\n",
      "Final Loss =  6.016485110961797\n",
      "Final penalty =  1.9999999867811638\n",
      "Final likelihood =  4.016485124180633\n",
      "seed =  183\n",
      "\n",
      "t =  0\n"
     ]
    },
    {
     "name": "stdout",
     "output_type": "stream",
     "text": [
      "t =  100\n"
     ]
    },
    {
     "name": "stdout",
     "output_type": "stream",
     "text": [
      "t =  200\n"
     ]
    },
    {
     "name": "stdout",
     "output_type": "stream",
     "text": [
      "random seed =  9\n",
      "likelihood_true =  3.959104150637462\n",
      "G_true = \n",
      " [[0. 0. 1. 0.]\n",
      " [0. 0. 0. 0.]\n",
      " [0. 1. 0. 0.]\n",
      " [1. 0. 1. 0.]]\n",
      "G_est = \n",
      " [[0. 0. 1. 0.]\n",
      " [0. 0. 0. 0.]\n",
      " [0. 1. 0. 0.]\n",
      " [1. 0. 1. 0.]]\n",
      "Final Loss =  5.9580652376249015\n",
      "Final penalty =  2.000000000001206\n",
      "Final likelihood =  3.9580652376236953\n",
      "seed =  207\n",
      "\n"
     ]
    }
   ],
   "source": [
    "# Find best penalty in best likelihoods, seed0-9\n",
    "# d = 4\n",
    "\n",
    "from torch.utils.data import Dataset\n",
    "\n",
    "from synthetic_dataset import SyntheticDataset\n",
    "from synthetic_dataset import dataset_based_on_B\n",
    "\n",
    "for seed in range(10):\n",
    "    # Load dataset\n",
    "    n, d = 10000, 4\n",
    "    graph_type, degree = 'ER', 1    # ER1 graph\n",
    "    B_scale = 1.0\n",
    "    noise_type = 'gaussian_ev'\n",
    "\n",
    "    Dataset = SyntheticDataset(n, d, graph_type, degree,\n",
    "                            noise_type, B_scale, seed=seed)\n",
    "    data = Dataset.X\n",
    "    B_true = Dataset.B\n",
    "    G_true = Dataset.B_bin\n",
    "\n",
    "    R_hat = np.cov(data.T)\n",
    "    d = R_hat.shape[0]\n",
    "    Omega_true = np.eye(d)\n",
    "    Theta_hat = inv(R_hat)\n",
    "\n",
    "    A_true = np.eye(d) - B_true\n",
    "    # print(\"A_true = \\n\",A_true)\n",
    "    likelihood_true = - 2 * np.log(np.linalg.det(A_true)) + np.trace(A_true.T @ R_hat @ A_true)\n",
    "\n",
    "\n",
    "    best_G, best_B, best_loss, best_likelihood, best_penalty, best_seed = nodag_findbest_likelihood_penalty(R_hat = R_hat, times = 300)\n",
    "\n",
    "    print(\"random seed = \", seed)\n",
    "    print(\"likelihood_true = \", likelihood_true)\n",
    "    print(\"G_true = \\n\", G_true)\n",
    "    print(\"G_est = \\n\", best_G)\n",
    "    # print(\"Is in MEC: \", MEC.is_in_markov_equiv_class(G_true, best_B))\n",
    "    print(\"Final Loss = \", best_loss)\n",
    "    print(\"Final penalty = \", best_penalty)\n",
    "    print(\"Final likelihood = \", best_likelihood)\n",
    "    print(\"seed = \", best_seed)\n",
    "    print(\"\")"
   ]
  },
  {
   "cell_type": "markdown",
   "id": "0d6d9a98",
   "metadata": {},
   "source": []
  },
  {
   "cell_type": "code",
   "execution_count": null,
   "id": "dc78ed3d",
   "metadata": {
    "execution": {
     "iopub.execute_input": "2025-09-25T12:24:20.686582Z",
     "iopub.status.busy": "2025-09-25T12:24:20.686032Z",
     "iopub.status.idle": "2025-09-25T15:01:05.860322Z",
     "shell.execute_reply": "2025-09-25T15:01:05.859298Z"
    }
   },
   "outputs": [
    {
     "name": "stdout",
     "output_type": "stream",
     "text": [
      "t =  0\n"
     ]
    },
    {
     "name": "stdout",
     "output_type": "stream",
     "text": [
      "t =  100\n"
     ]
    },
    {
     "name": "stdout",
     "output_type": "stream",
     "text": [
      "t =  200\n"
     ]
    },
    {
     "name": "stdout",
     "output_type": "stream",
     "text": [
      "random seed =  0\n",
      "likelihood_true =  6.059390325925763\n",
      "G_true = \n",
      " [[0. 0. 0. 0. 0. 0.]\n",
      " [0. 0. 0. 0. 1. 0.]\n",
      " [0. 0. 0. 0. 0. 0.]\n",
      " [0. 0. 0. 0. 0. 0.]\n",
      " [0. 0. 0. 0. 0. 0.]\n",
      " [0. 0. 0. 0. 0. 0.]]\n",
      "G_est = \n",
      " [[ 0.  0.  0.  0.  0.  0.]\n",
      " [ 0. -1.  0.  0.  0.  1.]\n",
      " [ 0.  1. -1.  0.  0.  0.]\n",
      " [ 0.  0.  0.  0.  0.  0.]\n",
      " [ 0.  0.  0.  0.  0.  1.]\n",
      " [ 0.  0.  1.  0.  0. -1.]]\n",
      "Final Loss =  9.558528383651488\n",
      "Final penalty =  3.5000000000069615\n",
      "Final likelihood =  6.058528383644527\n",
      "seed =  132\n",
      "\n",
      "t =  0\n"
     ]
    },
    {
     "name": "stdout",
     "output_type": "stream",
     "text": [
      "t =  100\n"
     ]
    },
    {
     "name": "stdout",
     "output_type": "stream",
     "text": [
      "t =  200\n"
     ]
    },
    {
     "name": "stdout",
     "output_type": "stream",
     "text": [
      "random seed =  1\n",
      "likelihood_true =  6.0187588230494375\n",
      "G_true = \n",
      " [[0. 0. 0. 0. 0. 0.]\n",
      " [0. 0. 0. 0. 0. 1.]\n",
      " [1. 0. 0. 0. 1. 0.]\n",
      " [1. 0. 0. 0. 0. 1.]\n",
      " [0. 0. 0. 0. 0. 0.]\n",
      " [0. 0. 0. 0. 0. 0.]]\n",
      "G_est = \n",
      " [[-1.  0.  1.  0.  0.  0.]\n",
      " [ 1. -1.  0.  1.  0.  0.]\n",
      " [ 0.  1.  0.  0.  1.  0.]\n",
      " [ 0.  0.  1.  0.  0.  1.]\n",
      " [ 0.  0.  0.  0.  0.  0.]\n",
      " [ 0.  0.  0.  1.  0. -1.]]\n",
      "Final Loss =  11.017345564478664\n",
      "Final penalty =  5.000000000011786\n",
      "Final likelihood =  6.017345564466877\n",
      "seed =  68\n",
      "\n",
      "t =  0\n"
     ]
    },
    {
     "name": "stdout",
     "output_type": "stream",
     "text": [
      "t =  100\n"
     ]
    },
    {
     "name": "stdout",
     "output_type": "stream",
     "text": [
      "t =  200\n"
     ]
    },
    {
     "name": "stdout",
     "output_type": "stream",
     "text": [
      "random seed =  2\n",
      "likelihood_true =  5.973040891440872\n",
      "G_true = \n",
      " [[0. 0. 0. 1. 0. 0.]\n",
      " [0. 0. 0. 0. 0. 1.]\n",
      " [0. 1. 0. 0. 0. 0.]\n",
      " [0. 0. 0. 0. 0. 0.]\n",
      " [0. 0. 0. 0. 0. 0.]\n",
      " [0. 0. 0. 0. 0. 0.]]\n",
      "G_est = \n",
      " [[ 0.  0.  1.  0.  0.  0.]\n",
      " [ 0.  0.  0.  0.  0.  1.]\n",
      " [ 0.  0. -1.  1.  0.  1.]\n",
      " [ 1.  0.  0. -1.  0.  0.]\n",
      " [ 0.  0.  0.  0.  0.  0.]\n",
      " [ 0.  1.  0.  0.  0. -1.]]\n",
      "Final Loss =  9.971562425442595\n",
      "Final penalty =  3.99999999792717\n",
      "Final likelihood =  5.971562427515425\n",
      "seed =  236\n",
      "\n",
      "t =  0\n"
     ]
    },
    {
     "name": "stdout",
     "output_type": "stream",
     "text": [
      "t =  100\n"
     ]
    },
    {
     "name": "stdout",
     "output_type": "stream",
     "text": [
      "t =  200\n"
     ]
    },
    {
     "name": "stdout",
     "output_type": "stream",
     "text": [
      "random seed =  3\n",
      "likelihood_true =  5.9778632214449\n",
      "G_true = \n",
      " [[0. 0. 0. 0. 0. 0.]\n",
      " [0. 0. 0. 1. 0. 0.]\n",
      " [0. 0. 0. 1. 0. 0.]\n",
      " [0. 0. 0. 0. 0. 0.]\n",
      " [0. 0. 0. 0. 0. 1.]\n",
      " [0. 0. 0. 0. 0. 0.]]\n",
      "G_est = \n",
      " [[ 0.  0.  0.  0.  0.  0.]\n",
      " [ 0.  0.  0.  1.  0.  0.]\n",
      " [ 0.  1.  0.  0.  0.  0.]\n",
      " [ 0.  1.  0. -1.  0.  0.]\n",
      " [ 0.  0.  0.  0.  0.  0.]\n",
      " [ 0.  0.  0.  0.  1.  0.]]\n",
      "Final Loss =  10.975578984597561\n",
      "Final penalty =  4.999999999922094\n",
      "Final likelihood =  5.975578984675468\n",
      "seed =  222\n",
      "\n",
      "t =  0\n"
     ]
    },
    {
     "name": "stdout",
     "output_type": "stream",
     "text": [
      "t =  100\n"
     ]
    },
    {
     "name": "stdout",
     "output_type": "stream",
     "text": [
      "t =  200\n"
     ]
    },
    {
     "name": "stdout",
     "output_type": "stream",
     "text": [
      "random seed =  4\n",
      "likelihood_true =  5.9859923426550345\n",
      "G_true = \n",
      " [[0. 0. 0. 0. 0. 0.]\n",
      " [1. 0. 0. 0. 0. 0.]\n",
      " [0. 0. 0. 0. 0. 0.]\n",
      " [0. 0. 0. 0. 0. 0.]\n",
      " [0. 0. 0. 0. 0. 0.]\n",
      " [0. 1. 0. 0. 1. 0.]]\n",
      "G_est = \n",
      " [[ 0.  0.  0.  0.  0.  1.]\n",
      " [ 0.  0.  0.  0.  0.  1.]\n",
      " [ 0.  0.  0.  0.  0.  0.]\n",
      " [ 0.  0.  0.  0.  0.  0.]\n",
      " [ 1.  1.  0.  0. -1.  1.]\n",
      " [ 1.  0.  0.  0.  1.  0.]]\n",
      "Final Loss =  10.483474573749639\n",
      "Final penalty =  4.500000000011355\n",
      "Final likelihood =  5.983474573738285\n",
      "seed =  92\n",
      "\n",
      "t =  0\n"
     ]
    },
    {
     "name": "stdout",
     "output_type": "stream",
     "text": [
      "t =  100\n"
     ]
    },
    {
     "name": "stdout",
     "output_type": "stream",
     "text": [
      "t =  200\n"
     ]
    },
    {
     "name": "stdout",
     "output_type": "stream",
     "text": [
      "random seed =  5\n",
      "likelihood_true =  6.005478893293238\n",
      "G_true = \n",
      " [[0. 0. 0. 0. 0. 0.]\n",
      " [0. 0. 0. 0. 0. 0.]\n",
      " [0. 1. 0. 0. 0. 0.]\n",
      " [0. 0. 0. 0. 0. 0.]\n",
      " [0. 0. 0. 0. 0. 1.]\n",
      " [0. 1. 0. 0. 0. 0.]]\n",
      "G_est = \n",
      " [[ 0.  0.  0.  0.  0.  0.]\n",
      " [ 0.  0.  0.  0.  0.  0.]\n",
      " [ 0.  1. -1.  0.  1.  0.]\n",
      " [ 0.  0.  0.  0.  0.  0.]\n",
      " [ 0.  0.  1.  0. -1.  0.]\n",
      " [ 0.  1.  1.  0.  0.  0.]]\n",
      "Final Loss =  9.504701177398367\n",
      "Final penalty =  3.499999999862758\n",
      "Final likelihood =  6.004701177535609\n",
      "seed =  31\n",
      "\n",
      "t =  0\n"
     ]
    },
    {
     "name": "stdout",
     "output_type": "stream",
     "text": [
      "t =  100\n"
     ]
    },
    {
     "name": "stdout",
     "output_type": "stream",
     "text": [
      "t =  200\n"
     ]
    },
    {
     "name": "stdout",
     "output_type": "stream",
     "text": [
      "random seed =  6\n",
      "likelihood_true =  6.007185721184526\n",
      "G_true = \n",
      " [[0. 0. 0. 0. 0. 0.]\n",
      " [0. 0. 0. 0. 0. 0.]\n",
      " [0. 0. 0. 0. 1. 0.]\n",
      " [0. 0. 0. 0. 0. 0.]\n",
      " [0. 0. 0. 0. 0. 0.]\n",
      " [0. 0. 0. 0. 1. 0.]]\n",
      "G_est = \n",
      " [[ 0.  0.  0.  0.  0.  0.]\n",
      " [ 0.  0.  0.  0.  0.  0.]\n",
      " [ 0.  0.  0.  0.  0.  1.]\n",
      " [ 0.  0.  0.  0.  0.  0.]\n",
      " [ 0.  0.  0.  0. -1.  1.]\n",
      " [ 0.  0.  0.  0.  1.  0.]]\n",
      "Final Loss =  10.005942838311519\n",
      "Final penalty =  4.000000000004137\n",
      "Final likelihood =  6.005942838307383\n",
      "seed =  134\n",
      "\n",
      "t =  0\n"
     ]
    },
    {
     "name": "stdout",
     "output_type": "stream",
     "text": [
      "t =  100\n"
     ]
    },
    {
     "name": "stdout",
     "output_type": "stream",
     "text": [
      "t =  200\n"
     ]
    },
    {
     "name": "stdout",
     "output_type": "stream",
     "text": [
      "random seed =  7\n",
      "likelihood_true =  5.933092055953226\n",
      "G_true = \n",
      " [[0. 0. 0. 0. 0. 0.]\n",
      " [0. 0. 0. 0. 0. 0.]\n",
      " [0. 0. 0. 0. 0. 0.]\n",
      " [1. 0. 0. 0. 0. 0.]\n",
      " [0. 0. 0. 0. 0. 1.]\n",
      " [0. 0. 1. 0. 0. 0.]]\n",
      "G_est = \n",
      " [[ 0.  0.  0.  0.  0.  0.]\n",
      " [ 0. -1.  0.  0.  1.  0.]\n",
      " [ 0.  1.  0.  0.  0.  0.]\n",
      " [ 1.  0.  0.  0.  0.  0.]\n",
      " [ 0.  1.  1.  0. -1.  0.]\n",
      " [ 0.  1.  0.  0.  0.  0.]]\n",
      "Final Loss =  9.93184155502874\n",
      "Final penalty =  4.000000000006713\n",
      "Final likelihood =  5.931841555022026\n",
      "seed =  191\n",
      "\n",
      "t =  0\n"
     ]
    },
    {
     "name": "stdout",
     "output_type": "stream",
     "text": [
      "t =  100\n"
     ]
    },
    {
     "name": "stdout",
     "output_type": "stream",
     "text": [
      "t =  200\n"
     ]
    },
    {
     "name": "stdout",
     "output_type": "stream",
     "text": [
      "random seed =  8\n",
      "likelihood_true =  6.009763430876404\n",
      "G_true = \n",
      " [[0. 0. 0. 0. 0. 0.]\n",
      " [0. 0. 0. 0. 0. 0.]\n",
      " [0. 0. 0. 0. 0. 0.]\n",
      " [0. 0. 0. 0. 0. 0.]\n",
      " [0. 0. 0. 0. 0. 0.]\n",
      " [0. 0. 0. 0. 1. 0.]]\n",
      "G_est = \n",
      " [[-1.  1.  0.  0.  0.  0.]\n",
      " [ 1. -1.  0.  0.  0.  0.]\n",
      " [ 0.  0.  0.  0.  0.  0.]\n",
      " [ 0.  0.  0. -1.  0.  1.]\n",
      " [ 0.  0.  0.  1.  0.  0.]\n",
      " [ 0.  0.  0.  1.  0. -1.]]\n",
      "Final Loss =  9.008804224579738\n",
      "Final penalty =  3.00000000001139\n",
      "Final likelihood =  6.0088042245683475\n",
      "seed =  274\n",
      "\n",
      "t =  0\n"
     ]
    },
    {
     "name": "stdout",
     "output_type": "stream",
     "text": [
      "t =  100\n"
     ]
    },
    {
     "name": "stdout",
     "output_type": "stream",
     "text": [
      "t =  200\n"
     ]
    },
    {
     "name": "stdout",
     "output_type": "stream",
     "text": [
      "random seed =  9\n",
      "likelihood_true =  5.971202658421388\n",
      "G_true = \n",
      " [[0. 0. 0. 0. 0. 0.]\n",
      " [0. 0. 0. 0. 0. 0.]\n",
      " [1. 1. 0. 0. 0. 1.]\n",
      " [0. 0. 0. 0. 0. 0.]\n",
      " [0. 1. 0. 1. 0. 0.]\n",
      " [0. 1. 0. 0. 0. 0.]]\n",
      "G_est = \n",
      " [[ 0.  0.  0.  0.  0.  1.]\n",
      " [ 0.  0.  0.  0.  1.  0.]\n",
      " [ 0.  1. -1.  0.  1.  1.]\n",
      " [ 0.  0.  1.  0.  0.  0.]\n",
      " [ 0.  1.  1.  0.  0.  0.]\n",
      " [ 0.  1.  0.  0.  0. -1.]]\n",
      "Final Loss =  11.970123196355825\n",
      "Final penalty =  6.000000000006351\n",
      "Final likelihood =  5.970123196349473\n",
      "seed =  150\n",
      "\n"
     ]
    }
   ],
   "source": [
    "# Find best penalty in best likelihoods, seed0-9\n",
    "# d = 6\n",
    "\n",
    "from torch.utils.data import Dataset\n",
    "\n",
    "from synthetic_dataset import SyntheticDataset\n",
    "from synthetic_dataset import dataset_based_on_B\n",
    "\n",
    "for seed in range(10):\n",
    "    # Load dataset\n",
    "    n, d = 100000, 5\n",
    "    graph_type, degree = 'ER', 1    # ER1 graph\n",
    "    B_scale = 1.0\n",
    "    noise_type = 'gaussian_ev'\n",
    "\n",
    "    Dataset = SyntheticDataset(n, d, graph_type, degree,\n",
    "                            noise_type, B_scale, seed=seed)\n",
    "    data = Dataset.X\n",
    "    B_true = Dataset.B\n",
    "    G_true = Dataset.B_bin\n",
    "\n",
    "    R_hat = np.cov(data.T)\n",
    "    d = R_hat.shape[0]\n",
    "    Omega_true = np.eye(d)\n",
    "    Theta_hat = inv(R_hat)\n",
    "\n",
    "    A_true = np.eye(d) - B_true\n",
    "    # print(\"A_true = \\n\",A_true)\n",
    "    likelihood_true = - 2 * np.log(np.linalg.det(A_true)) + np.trace(A_true.T @ R_hat @ A_true)\n",
    "\n",
    "\n",
    "    best_G, best_B, best_loss, best_likelihood, best_penalty, best_seed = nodag_findbest_likelihood_penalty(R_hat = R_hat, times = 300)\n",
    "\n",
    "    print(\"random seed = \", seed)\n",
    "    print(\"likelihood_true = \", likelihood_true)\n",
    "    print(\"G_true = \\n\", G_true)\n",
    "    print(\"G_est = \\n\", best_G)\n",
    "    # print(\"Is in MEC: \", MEC.is_in_markov_equiv_class(G_true, best_B))\n",
    "    print(\"Final Loss = \", best_loss)\n",
    "    print(\"Final penalty = \", best_penalty)\n",
    "    print(\"Final likelihood = \", best_likelihood)\n",
    "    print(\"seed = \", best_seed)\n",
    "    print(\"\")"
   ]
  },
  {
   "cell_type": "code",
   "execution_count": 10,
   "id": "ca0c9f2a",
   "metadata": {
    "execution": {
     "iopub.execute_input": "2025-09-25T15:01:05.867618Z",
     "iopub.status.busy": "2025-09-25T15:01:05.867387Z",
     "iopub.status.idle": "2025-09-25T18:16:49.293413Z",
     "shell.execute_reply": "2025-09-25T18:16:49.292414Z"
    }
   },
   "outputs": [
    {
     "name": "stdout",
     "output_type": "stream",
     "text": [
      "t =  0\n"
     ]
    },
    {
     "name": "stdout",
     "output_type": "stream",
     "text": [
      "t =  100\n"
     ]
    },
    {
     "name": "stdout",
     "output_type": "stream",
     "text": [
      "t =  200\n"
     ]
    },
    {
     "name": "stdout",
     "output_type": "stream",
     "text": [
      "random seed =  0\n",
      "likelihood_true =  10.0400134065037\n",
      "G_true = \n",
      " [[0. 0. 0. 0. 0. 0. 0. 0. 0. 0.]\n",
      " [0. 0. 0. 0. 0. 0. 0. 0. 0. 0.]\n",
      " [0. 0. 0. 0. 0. 0. 1. 0. 0. 0.]\n",
      " [0. 0. 0. 0. 0. 0. 1. 0. 0. 0.]\n",
      " [0. 0. 0. 0. 0. 0. 0. 0. 0. 0.]\n",
      " [0. 0. 0. 0. 0. 0. 0. 0. 0. 0.]\n",
      " [0. 0. 0. 0. 0. 0. 0. 0. 0. 0.]\n",
      " [0. 0. 0. 1. 1. 0. 1. 0. 0. 0.]\n",
      " [0. 0. 0. 0. 0. 0. 0. 0. 0. 0.]\n",
      " [0. 0. 0. 0. 0. 0. 0. 0. 0. 0.]]\n",
      "G_est = \n",
      " [[ 0.  0.  0.  0.  0.  0.  0.  0.  0.  0.]\n",
      " [ 0.  0.  0.  0.  0.  0.  0.  0.  0.  0.]\n",
      " [ 0.  0. -1.  0.  0.  0.  1.  0.  1.  0.]\n",
      " [ 0.  0.  0. -1.  1.  0.  1.  0.  0.  0.]\n",
      " [ 0.  0.  1.  0. -1.  0.  0.  0.  0.  1.]\n",
      " [ 0.  0.  0.  1.  0. -1.  0.  0.  0.  0.]\n",
      " [ 0.  0.  0.  0.  0.  0.  0.  0.  0.  0.]\n",
      " [ 0.  0.  1.  0.  1.  0.  1. -1.  0.  0.]\n",
      " [ 0.  0.  0.  0.  0.  0.  0.  1. -1.  0.]\n",
      " [ 0.  0.  0.  0.  0.  1.  0.  0.  0. -1.]]\n",
      "Final Loss =  24.03624132891808\n",
      "Final penalty =  14.000000000037415\n",
      "Final likelihood =  10.036241328880667\n",
      "seed =  249\n",
      "\n",
      "t =  0\n"
     ]
    },
    {
     "name": "stdout",
     "output_type": "stream",
     "text": [
      "t =  100\n"
     ]
    },
    {
     "name": "stdout",
     "output_type": "stream",
     "text": [
      "t =  200\n"
     ]
    },
    {
     "name": "stdout",
     "output_type": "stream",
     "text": [
      "random seed =  1\n",
      "likelihood_true =  10.002790072174918\n",
      "G_true = \n",
      " [[0. 0. 0. 0. 0. 0. 0. 0. 0. 0.]\n",
      " [0. 0. 1. 0. 0. 0. 0. 0. 0. 1.]\n",
      " [0. 0. 0. 0. 0. 0. 0. 0. 0. 0.]\n",
      " [1. 0. 0. 0. 0. 0. 0. 0. 0. 1.]\n",
      " [0. 0. 0. 0. 0. 0. 0. 0. 0. 0.]\n",
      " [0. 0. 0. 0. 1. 0. 0. 0. 0. 0.]\n",
      " [0. 0. 0. 0. 0. 0. 0. 0. 0. 0.]\n",
      " [0. 0. 0. 0. 0. 0. 0. 0. 0. 0.]\n",
      " [0. 0. 0. 0. 0. 1. 1. 0. 0. 0.]\n",
      " [1. 0. 0. 0. 0. 0. 0. 0. 0. 0.]]\n",
      "G_est = \n",
      " [[-1.  1.  0.  0.  0.  1.  0.  0.  0.  0.]\n",
      " [ 1.  0.  1.  0.  0.  1.  1.  0.  0.  0.]\n",
      " [ 1.  0. -1.  0.  0.  0.  0.  0.  0.  0.]\n",
      " [ 0.  0.  1. -1.  0.  1.  1.  0.  0.  0.]\n",
      " [ 0.  0.  0.  0.  0.  0.  0.  0.  0.  0.]\n",
      " [ 0.  0.  0.  0.  1. -1.  0.  0.  1.  0.]\n",
      " [ 0.  0.  0.  1.  0.  0. -1.  0.  0.  0.]\n",
      " [ 0.  0.  0.  0.  0.  0.  0. -1.  0.  1.]\n",
      " [ 0.  0.  0.  1.  0.  0.  0.  1.  0.  0.]\n",
      " [ 0.  0.  1.  0.  0.  1.  0.  0.  0. -1.]]\n",
      "Final Loss =  25.999251508801116\n",
      "Final penalty =  16.000000000011195\n",
      "Final likelihood =  9.999251508789921\n",
      "seed =  126\n",
      "\n",
      "t =  0\n"
     ]
    },
    {
     "name": "stdout",
     "output_type": "stream",
     "text": [
      "t =  100\n"
     ]
    },
    {
     "name": "stdout",
     "output_type": "stream",
     "text": [
      "t =  200\n"
     ]
    },
    {
     "name": "stdout",
     "output_type": "stream",
     "text": [
      "random seed =  2\n",
      "likelihood_true =  9.996492457412065\n",
      "G_true = \n",
      " [[0. 0. 0. 0. 0. 0. 0. 0. 0. 0.]\n",
      " [0. 0. 0. 0. 0. 0. 0. 0. 0. 0.]\n",
      " [0. 0. 0. 0. 0. 0. 0. 0. 0. 0.]\n",
      " [0. 0. 0. 0. 0. 0. 0. 0. 0. 0.]\n",
      " [1. 0. 0. 0. 0. 0. 0. 0. 0. 1.]\n",
      " [0. 0. 0. 0. 0. 0. 0. 0. 0. 1.]\n",
      " [0. 0. 0. 0. 0. 0. 0. 0. 0. 0.]\n",
      " [0. 0. 0. 0. 0. 0. 0. 0. 0. 0.]\n",
      " [0. 0. 0. 0. 0. 0. 0. 0. 0. 1.]\n",
      " [0. 0. 0. 0. 0. 0. 0. 1. 0. 0.]]\n",
      "G_est = \n",
      " [[ 0.  0.  0.  0.  1.  0.  0.  0.  0.  0.]\n",
      " [ 0. -1.  0.  0.  0.  0.  0.  1.  0.  0.]\n",
      " [ 0.  0.  0.  0.  0.  0.  0.  0.  0.  0.]\n",
      " [ 0.  1.  0. -1.  0.  0.  0.  0.  0.  0.]\n",
      " [ 0.  0.  0.  0.  0.  0.  0.  0.  1.  1.]\n",
      " [ 0.  0.  0.  0.  0.  0.  0.  0.  1.  0.]\n",
      " [ 0.  0.  0.  0.  0.  0.  0.  0.  0.  0.]\n",
      " [ 0.  0.  0.  1.  0.  0.  0. -1.  0.  0.]\n",
      " [ 0.  0.  0.  0.  0.  1.  0.  0.  0.  1.]\n",
      " [ 1.  0.  0.  1.  1.  1.  0.  0.  1. -1.]]\n",
      "Final Loss =  26.49299518043799\n",
      "Final penalty =  16.500000001170527\n",
      "Final likelihood =  9.992995179267464\n",
      "seed =  20\n",
      "\n",
      "t =  0\n"
     ]
    },
    {
     "name": "stdout",
     "output_type": "stream",
     "text": [
      "t =  100\n"
     ]
    },
    {
     "name": "stdout",
     "output_type": "stream",
     "text": [
      "t =  200\n"
     ]
    },
    {
     "name": "stdout",
     "output_type": "stream",
     "text": [
      "random seed =  3\n",
      "likelihood_true =  10.041924921139652\n",
      "G_true = \n",
      " [[0. 1. 0. 0. 0. 1. 0. 0. 0. 0.]\n",
      " [0. 0. 0. 0. 0. 0. 0. 0. 0. 0.]\n",
      " [0. 0. 0. 0. 0. 0. 1. 0. 0. 0.]\n",
      " [0. 0. 0. 0. 0. 0. 0. 0. 0. 0.]\n",
      " [0. 1. 0. 0. 0. 0. 0. 0. 0. 0.]\n",
      " [0. 0. 0. 0. 0. 0. 0. 0. 0. 0.]\n",
      " [0. 0. 0. 0. 0. 0. 0. 0. 0. 0.]\n",
      " [0. 0. 0. 0. 0. 0. 0. 0. 0. 0.]\n",
      " [0. 0. 0. 0. 0. 0. 0. 0. 0. 0.]\n",
      " [0. 0. 0. 0. 0. 0. 0. 0. 0. 0.]]\n",
      "G_est = \n",
      " [[ 0.  0.  0.  1.  0.  0.  0.  1.  0.  0.]\n",
      " [ 1. -1.  0.  1.  0.  0.  0.  0.  0.  0.]\n",
      " [ 0.  0.  0.  0.  0.  0.  0.  0.  1.  0.]\n",
      " [ 0.  1.  0. -1.  0.  0.  0.  0.  0.  0.]\n",
      " [ 0.  0.  0.  1. -1.  0.  0.  0.  0.  0.]\n",
      " [ 0.  0.  0.  0.  0.  0.  0.  1.  0.  0.]\n",
      " [ 0.  0.  1.  0.  0.  0. -1.  0.  0.  0.]\n",
      " [ 0.  0.  0.  0.  0.  0.  0. -1.  0.  1.]\n",
      " [ 0.  0.  0.  0.  1.  0.  0.  0. -1.  0.]\n",
      " [ 0.  0.  0.  0.  0.  0.  1.  0.  0. -1.]]\n",
      "Final Loss =  24.038314931145962\n",
      "Final penalty =  14.000000000054909\n",
      "Final likelihood =  10.038314931091053\n",
      "seed =  89\n",
      "\n",
      "t =  0\n"
     ]
    },
    {
     "name": "stdout",
     "output_type": "stream",
     "text": [
      "t =  100\n"
     ]
    },
    {
     "name": "stdout",
     "output_type": "stream",
     "text": [
      "t =  200\n"
     ]
    },
    {
     "name": "stdout",
     "output_type": "stream",
     "text": [
      "random seed =  4\n",
      "likelihood_true =  9.942180101466843\n",
      "G_true = \n",
      " [[0. 0. 0. 0. 0. 0. 0. 0. 0. 0.]\n",
      " [0. 0. 0. 0. 0. 0. 0. 0. 0. 0.]\n",
      " [0. 0. 0. 0. 0. 0. 0. 0. 0. 0.]\n",
      " [0. 0. 0. 0. 0. 0. 0. 0. 0. 0.]\n",
      " [0. 0. 0. 0. 0. 0. 1. 0. 0. 0.]\n",
      " [0. 0. 1. 0. 1. 0. 0. 0. 0. 0.]\n",
      " [0. 0. 0. 0. 0. 0. 0. 0. 0. 0.]\n",
      " [0. 1. 0. 0. 0. 0. 0. 0. 0. 0.]\n",
      " [0. 0. 0. 0. 0. 0. 0. 0. 0. 1.]\n",
      " [0. 0. 0. 0. 0. 0. 0. 0. 0. 0.]]\n",
      "G_est = \n",
      " [[-1.  0.  0.  0.  0.  0.  1.  0.  0.  0.]\n",
      " [ 0. -1.  0.  0.  0.  0.  0.  0.  0.  1.]\n",
      " [ 0.  0. -1.  0.  0.  1.  0.  0.  0.  0.]\n",
      " [ 0.  0.  1. -1.  0.  0.  0.  0.  0.  0.]\n",
      " [ 0.  0.  0.  1. -1.  0.  0.  1.  0.  0.]\n",
      " [ 0.  0.  0.  0.  0.  0.  0.  1.  0.  0.]\n",
      " [ 0.  0.  0.  1.  1.  0. -1.  0.  0.  0.]\n",
      " [ 1.  0.  0.  0.  0.  0.  0. -1.  0.  1.]\n",
      " [ 0.  1.  0.  0.  0.  0.  0.  0.  0.  0.]\n",
      " [ 0.  1.  0.  0.  0.  0.  0.  0.  0. -1.]]\n",
      "Final Loss =  23.938786022583734\n",
      "Final penalty =  14.000000000040961\n",
      "Final likelihood =  9.938786022542775\n",
      "seed =  52\n",
      "\n",
      "t =  0\n"
     ]
    },
    {
     "name": "stdout",
     "output_type": "stream",
     "text": [
      "t =  100\n"
     ]
    },
    {
     "name": "stdout",
     "output_type": "stream",
     "text": [
      "t =  200\n"
     ]
    },
    {
     "name": "stdout",
     "output_type": "stream",
     "text": [
      "random seed =  5\n",
      "likelihood_true =  10.000008655080968\n",
      "G_true = \n",
      " [[0. 0. 0. 0. 0. 0. 0. 0. 0. 0.]\n",
      " [0. 0. 0. 1. 0. 0. 0. 0. 0. 0.]\n",
      " [0. 0. 0. 0. 0. 0. 0. 0. 0. 0.]\n",
      " [0. 0. 0. 0. 0. 0. 0. 0. 0. 0.]\n",
      " [0. 0. 0. 0. 0. 0. 0. 0. 0. 0.]\n",
      " [0. 0. 1. 0. 0. 0. 0. 0. 0. 0.]\n",
      " [0. 0. 0. 0. 0. 0. 0. 0. 0. 0.]\n",
      " [0. 0. 0. 0. 0. 1. 0. 0. 0. 0.]\n",
      " [0. 0. 0. 0. 0. 0. 0. 0. 0. 0.]\n",
      " [0. 0. 1. 0. 0. 0. 1. 0. 0. 0.]]\n",
      "G_est = \n",
      " [[-1.  0.  0.  0.  0.  0.  0.  0.  0.  1.]\n",
      " [ 0.  0.  0.  0.  0.  1.  0.  0.  0.  0.]\n",
      " [ 1.  0. -1.  0.  0.  0.  0.  0.  0.  0.]\n",
      " [ 0.  1.  0. -1.  0.  0.  0.  0.  0.  0.]\n",
      " [ 0.  0.  0.  0. -1.  0.  0.  0.  1.  0.]\n",
      " [ 1.  0.  0.  1.  0. -1.  0.  1.  0.  0.]\n",
      " [ 0.  0.  1.  0.  1.  0. -1.  0.  0.  0.]\n",
      " [ 0.  0.  0.  0.  0.  0.  0.  0.  0.  0.]\n",
      " [ 0.  0.  0.  0.  0.  0.  1.  0. -1.  0.]\n",
      " [ 1.  0.  1.  0.  0.  0.  0.  0.  0. -1.]]\n",
      "Final Loss =  25.495806056457113\n",
      "Final penalty =  15.500000000024897\n",
      "Final likelihood =  9.995806056432214\n",
      "seed =  109\n",
      "\n",
      "t =  0\n"
     ]
    },
    {
     "name": "stdout",
     "output_type": "stream",
     "text": [
      "t =  100\n"
     ]
    },
    {
     "name": "stdout",
     "output_type": "stream",
     "text": [
      "t =  200\n"
     ]
    },
    {
     "name": "stdout",
     "output_type": "stream",
     "text": [
      "random seed =  6\n",
      "likelihood_true =  9.998788904736376\n",
      "G_true = \n",
      " [[0. 0. 0. 0. 0. 0. 0. 0. 0. 0.]\n",
      " [0. 0. 1. 0. 0. 0. 0. 0. 0. 0.]\n",
      " [0. 0. 0. 0. 0. 0. 0. 0. 0. 0.]\n",
      " [0. 0. 0. 0. 0. 0. 0. 0. 0. 0.]\n",
      " [0. 0. 0. 0. 0. 0. 0. 0. 0. 0.]\n",
      " [0. 0. 0. 0. 0. 0. 0. 0. 0. 0.]\n",
      " [0. 0. 0. 0. 0. 0. 0. 1. 0. 0.]\n",
      " [0. 0. 0. 0. 0. 0. 0. 0. 0. 0.]\n",
      " [0. 0. 1. 0. 0. 0. 0. 0. 0. 0.]\n",
      " [0. 0. 0. 0. 0. 0. 0. 0. 0. 0.]]\n",
      "G_est = \n",
      " [[-1.  0.  1.  0.  0.  1.  0.  0.  0.  0.]\n",
      " [ 1.  0.  0.  1.  0.  0.  0.  0.  0.  0.]\n",
      " [ 1.  1. -1.  0.  0.  0.  0.  0.  0.  0.]\n",
      " [ 0.  0.  0. -1.  0.  0.  0.  0.  1.  0.]\n",
      " [ 0.  0.  0.  0. -1.  0.  0.  1.  0.  0.]\n",
      " [ 0.  0.  1.  0.  0.  0.  0.  0.  0.  0.]\n",
      " [ 0.  0.  0.  0.  1.  0. -1.  0.  0.  1.]\n",
      " [ 0.  0.  0.  0.  1.  0.  0. -1.  0.  0.]\n",
      " [ 0.  1.  0.  0.  0.  0.  0.  0. -1.  0.]\n",
      " [ 0.  0.  0.  0.  0.  0.  1.  0.  0. -1.]]\n",
      "Final Loss =  24.493975116743457\n",
      "Final penalty =  14.500000000042425\n",
      "Final likelihood =  9.993975116701032\n",
      "seed =  196\n",
      "\n",
      "t =  0\n"
     ]
    },
    {
     "name": "stdout",
     "output_type": "stream",
     "text": [
      "t =  100\n"
     ]
    },
    {
     "name": "stdout",
     "output_type": "stream",
     "text": [
      "t =  200\n"
     ]
    },
    {
     "name": "stdout",
     "output_type": "stream",
     "text": [
      "random seed =  7\n",
      "likelihood_true =  9.90497537124994\n",
      "G_true = \n",
      " [[0. 0. 0. 0. 0. 0. 1. 0. 0. 0.]\n",
      " [0. 0. 0. 0. 0. 0. 0. 0. 0. 0.]\n",
      " [0. 0. 0. 0. 0. 0. 0. 0. 0. 0.]\n",
      " [0. 0. 0. 0. 0. 0. 0. 0. 0. 0.]\n",
      " [0. 0. 0. 0. 0. 0. 0. 0. 0. 0.]\n",
      " [0. 0. 0. 0. 0. 0. 1. 0. 0. 0.]\n",
      " [0. 0. 0. 0. 0. 0. 0. 0. 0. 0.]\n",
      " [0. 0. 0. 0. 1. 0. 0. 0. 0. 0.]\n",
      " [1. 0. 0. 0. 0. 0. 0. 0. 0. 0.]\n",
      " [0. 0. 0. 0. 0. 0. 0. 0. 0. 0.]]\n",
      "G_est = \n",
      " [[ 0.  0.  0.  1.  0.  0.  0.  0.  1.  0.]\n",
      " [ 0.  0.  0.  0.  0.  0.  0.  0.  0.  0.]\n",
      " [ 0.  0.  0.  0.  0.  0.  0.  0.  0.  0.]\n",
      " [ 0.  0.  0. -1.  0.  1.  0.  0.  0.  0.]\n",
      " [ 0.  0.  0.  0. -1.  0.  1.  0.  0.  1.]\n",
      " [ 0.  0.  0.  1.  0. -1.  0.  1.  0.  0.]\n",
      " [ 0.  0.  0.  1.  0.  0. -1.  0.  0.  0.]\n",
      " [ 0.  0.  0.  0.  0.  0.  1. -1.  0.  0.]\n",
      " [ 1.  0.  0.  0.  0.  0.  0.  0.  0.  0.]\n",
      " [ 0.  0.  0.  0.  1.  0.  0.  0.  0. -1.]]\n",
      "Final Loss =  23.902184472776952\n",
      "Final penalty =  14.000000000022446\n",
      "Final likelihood =  9.902184472754504\n",
      "seed =  249\n",
      "\n",
      "t =  0\n"
     ]
    },
    {
     "name": "stdout",
     "output_type": "stream",
     "text": [
      "t =  100\n"
     ]
    },
    {
     "name": "stdout",
     "output_type": "stream",
     "text": [
      "t =  200\n"
     ]
    },
    {
     "name": "stdout",
     "output_type": "stream",
     "text": [
      "random seed =  8\n",
      "likelihood_true =  10.029179390737745\n",
      "G_true = \n",
      " [[0. 0. 0. 0. 1. 0. 0. 0. 1. 0.]\n",
      " [0. 0. 1. 0. 0. 0. 0. 0. 0. 0.]\n",
      " [0. 0. 0. 1. 0. 0. 0. 0. 0. 0.]\n",
      " [0. 0. 0. 0. 0. 0. 0. 0. 0. 0.]\n",
      " [0. 0. 0. 0. 0. 0. 0. 0. 0. 0.]\n",
      " [0. 0. 0. 0. 0. 0. 0. 0. 0. 0.]\n",
      " [1. 0. 0. 0. 0. 0. 0. 0. 0. 0.]\n",
      " [0. 0. 0. 0. 0. 0. 0. 0. 0. 0.]\n",
      " [0. 0. 0. 0. 0. 0. 0. 0. 0. 0.]\n",
      " [0. 0. 0. 0. 0. 0. 0. 1. 0. 0.]]\n",
      "G_est = \n",
      " [[-1.  0.  0.  0.  1.  0.  0.  0.  1.  1.]\n",
      " [ 0.  0.  0.  1.  0.  0.  1.  0.  1.  1.]\n",
      " [ 0.  0. -1.  1.  0.  0.  0.  0.  0.  0.]\n",
      " [ 0.  1.  0.  0.  0.  0.  0.  0.  0.  0.]\n",
      " [ 0.  0.  0.  0.  0.  0.  0.  0.  0.  0.]\n",
      " [ 0.  0.  0.  0.  0. -1.  0.  1.  0.  0.]\n",
      " [ 0.  0.  1.  0.  0.  0. -1.  0.  0.  1.]\n",
      " [ 0.  0.  0.  0.  0.  1.  0. -1.  0.  0.]\n",
      " [ 0.  0.  0.  0.  0.  0.  1.  0.  0.  0.]\n",
      " [ 1.  0.  0.  0.  0.  1.  0.  0.  0. -1.]]\n",
      "Final Loss =  25.524068206295468\n",
      "Final penalty =  15.500000000063697\n",
      "Final likelihood =  10.02406820623177\n",
      "seed =  90\n",
      "\n",
      "t =  0\n"
     ]
    },
    {
     "name": "stdout",
     "output_type": "stream",
     "text": [
      "t =  100\n"
     ]
    },
    {
     "name": "stdout",
     "output_type": "stream",
     "text": [
      "t =  200\n"
     ]
    },
    {
     "name": "stdout",
     "output_type": "stream",
     "text": [
      "random seed =  9\n",
      "likelihood_true =  9.992348082899932\n",
      "G_true = \n",
      " [[0. 0. 0. 0. 0. 0. 0. 0. 0. 0.]\n",
      " [0. 0. 0. 0. 0. 0. 0. 0. 0. 0.]\n",
      " [0. 0. 0. 0. 0. 1. 0. 0. 0. 0.]\n",
      " [0. 1. 0. 0. 0. 0. 0. 0. 0. 0.]\n",
      " [0. 0. 0. 0. 0. 0. 0. 0. 0. 0.]\n",
      " [0. 1. 0. 0. 0. 0. 0. 0. 0. 0.]\n",
      " [0. 0. 0. 0. 0. 0. 0. 0. 0. 0.]\n",
      " [0. 0. 0. 0. 0. 0. 0. 0. 0. 0.]\n",
      " [0. 0. 0. 0. 0. 0. 0. 0. 0. 0.]\n",
      " [0. 0. 0. 0. 0. 0. 0. 0. 0. 0.]]\n",
      "G_est = \n",
      " [[-1.  0.  0.  0.  0.  0.  1.  1.  0.  0.]\n",
      " [ 0. -1.  0.  0.  1.  0.  0.  0.  0.  0.]\n",
      " [ 0.  0.  0.  0.  0.  0.  0.  0.  0.  0.]\n",
      " [ 0.  0.  0. -1.  1.  1.  0.  0.  0.  0.]\n",
      " [ 0.  0.  0.  1. -1.  0.  0.  0.  0.  0.]\n",
      " [ 0.  0.  1.  0.  1. -1.  1.  0.  0.  0.]\n",
      " [ 1.  0.  0.  0.  0.  0. -1.  0.  0.  0.]\n",
      " [ 0.  0.  0.  0.  0.  0.  0. -1.  1.  1.]\n",
      " [ 0.  0.  0.  0.  0.  0.  0.  0.  0.  1.]\n",
      " [ 0.  1.  0.  0.  0.  0.  0.  0.  0. -1.]]\n",
      "Final Loss =  26.486771258129586\n",
      "Final penalty =  16.500000001162284\n",
      "Final likelihood =  9.986771256967304\n",
      "seed =  170\n",
      "\n"
     ]
    }
   ],
   "source": [
    "# Find best penalty in best likelihoods, seed0-9\n",
    "# d = 10\n",
    "\n",
    "from torch.utils.data import Dataset\n",
    "\n",
    "from synthetic_dataset import SyntheticDataset\n",
    "from synthetic_dataset import dataset_based_on_B\n",
    "\n",
    "for seed in range(10):\n",
    "    # Load dataset\n",
    "    n, d = 10000, 10\n",
    "    graph_type, degree = 'ER', 1    # ER1 graph\n",
    "    B_scale = 1.0\n",
    "    noise_type = 'gaussian_ev'\n",
    "\n",
    "    Dataset = SyntheticDataset(n, d, graph_type, degree,\n",
    "                            noise_type, B_scale, seed=seed)\n",
    "    data = Dataset.X\n",
    "    B_true = Dataset.B\n",
    "    G_true = Dataset.B_bin\n",
    "\n",
    "    R_hat = np.cov(data.T)\n",
    "    d = R_hat.shape[0]\n",
    "    Omega_true = np.eye(d)\n",
    "    Theta_hat = inv(R_hat)\n",
    "\n",
    "    A_true = np.eye(d) - B_true\n",
    "    # print(\"A_true = \\n\",A_true)\n",
    "    likelihood_true = - 2 * np.log(np.linalg.det(A_true)) + np.trace(A_true.T @ R_hat @ A_true)\n",
    "\n",
    "\n",
    "    best_G, best_B, best_loss, best_likelihood, best_penalty, best_seed = nodag_findbest_likelihood_penalty(R_hat = R_hat, times = 300)\n",
    "\n",
    "    print(\"random seed = \", seed)\n",
    "    print(\"likelihood_true = \", likelihood_true)\n",
    "    print(\"G_true = \\n\", G_true)\n",
    "    print(\"G_est = \\n\", best_G)\n",
    "    # print(\"Is in MEC: \", MEC.is_in_markov_equiv_class(G_true, best_B))\n",
    "    print(\"Final Loss = \", best_loss)\n",
    "    print(\"Final penalty = \", best_penalty)\n",
    "    print(\"Final likelihood = \", best_likelihood)\n",
    "    print(\"seed = \", best_seed)\n",
    "    print(\"\")"
   ]
  }
 ],
 "metadata": {
  "kernelspec": {
   "display_name": ".venv",
   "language": "python",
   "name": "python3"
  },
  "language_info": {
   "codemirror_mode": {
    "name": "ipython",
    "version": 3
   },
   "file_extension": ".py",
   "mimetype": "text/x-python",
   "name": "python",
   "nbconvert_exporter": "python",
   "pygments_lexer": "ipython3",
   "version": "3.8.1"
  }
 },
 "nbformat": 4,
 "nbformat_minor": 5
}
