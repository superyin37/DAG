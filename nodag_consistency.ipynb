{
 "cells": [
  {
   "cell_type": "code",
   "execution_count": 1,
   "id": "cd3e896f",
   "metadata": {},
   "outputs": [
    {
     "name": "stdout",
     "output_type": "stream",
     "text": [
      "c:\\Users\\super\\DAG\n"
     ]
    }
   ],
   "source": [
    "from nodag import nodag, weight_to_adjacency\n",
    "import numpy as np\n",
    "from synthetic_dataset import SyntheticDataset\n",
    "from MEC import is_in_markov_equiv_class\n",
    "from nodag import weight_to_adjacency"
   ]
  },
  {
   "cell_type": "code",
   "execution_count": 2,
   "id": "d15a6472",
   "metadata": {},
   "outputs": [
    {
     "name": "stdout",
     "output_type": "stream",
     "text": [
      "Requirement already satisfied: cdt in d:\\coding\\anaconda\\lib\\site-packages (0.6.0)\n",
      "Requirement already satisfied: numpy in d:\\coding\\anaconda\\lib\\site-packages (from cdt) (1.26.4)\n",
      "Requirement already satisfied: scipy in d:\\coding\\anaconda\\lib\\site-packages (from cdt) (1.13.1)\n",
      "Requirement already satisfied: scikit-learn in d:\\coding\\anaconda\\lib\\site-packages (from cdt) (1.5.1)\n",
      "Requirement already satisfied: joblib in d:\\coding\\anaconda\\lib\\site-packages (from cdt) (1.4.2)\n",
      "Requirement already satisfied: pandas in d:\\coding\\anaconda\\lib\\site-packages (from cdt) (2.2.2)\n",
      "Requirement already satisfied: statsmodels in d:\\coding\\anaconda\\lib\\site-packages (from cdt) (0.14.2)\n",
      "Requirement already satisfied: networkx in d:\\coding\\anaconda\\lib\\site-packages (from cdt) (3.3)\n",
      "Requirement already satisfied: skrebate in d:\\coding\\anaconda\\lib\\site-packages (from cdt) (0.62)\n",
      "Requirement already satisfied: tqdm in d:\\coding\\anaconda\\lib\\site-packages (from cdt) (4.66.5)\n",
      "Requirement already satisfied: GPUtil in d:\\coding\\anaconda\\lib\\site-packages (from cdt) (1.4.0)\n",
      "Requirement already satisfied: requests in d:\\coding\\anaconda\\lib\\site-packages (from cdt) (2.32.3)\n",
      "Requirement already satisfied: python-dateutil>=2.8.2 in d:\\coding\\anaconda\\lib\\site-packages (from pandas->cdt) (2.9.0.post0)\n",
      "Requirement already satisfied: pytz>=2020.1 in d:\\coding\\anaconda\\lib\\site-packages (from pandas->cdt) (2024.1)\n",
      "Requirement already satisfied: tzdata>=2022.7 in d:\\coding\\anaconda\\lib\\site-packages (from pandas->cdt) (2023.3)\n",
      "Requirement already satisfied: six>=1.5 in d:\\coding\\anaconda\\lib\\site-packages (from python-dateutil>=2.8.2->pandas->cdt) (1.16.0)\n",
      "Requirement already satisfied: charset-normalizer<4,>=2 in d:\\coding\\anaconda\\lib\\site-packages (from requests->cdt) (3.3.2)\n",
      "Requirement already satisfied: idna<4,>=2.5 in d:\\coding\\anaconda\\lib\\site-packages (from requests->cdt) (3.7)\n",
      "Requirement already satisfied: urllib3<3,>=1.21.1 in d:\\coding\\anaconda\\lib\\site-packages (from requests->cdt) (2.2.3)\n",
      "Requirement already satisfied: certifi>=2017.4.17 in d:\\coding\\anaconda\\lib\\site-packages (from requests->cdt) (2025.6.15)\n",
      "Requirement already satisfied: threadpoolctl>=3.1.0 in d:\\coding\\anaconda\\lib\\site-packages (from scikit-learn->cdt) (3.5.0)\n",
      "Requirement already satisfied: patsy>=0.5.6 in d:\\coding\\anaconda\\lib\\site-packages (from statsmodels->cdt) (0.5.6)\n",
      "Requirement already satisfied: packaging>=21.3 in d:\\coding\\anaconda\\lib\\site-packages (from statsmodels->cdt) (24.1)\n",
      "Requirement already satisfied: colorama in d:\\coding\\anaconda\\lib\\site-packages (from tqdm->cdt) (0.4.6)\n"
     ]
    },
    {
     "name": "stderr",
     "output_type": "stream",
     "text": [
      "\n",
      "[notice] A new release of pip is available: 25.1.1 -> 25.2\n",
      "[notice] To update, run: python.exe -m pip install --upgrade pip\n",
      "No GPU automatically detected. Setting SETTINGS.GPU to 0, and SETTINGS.NJOBS to cpu_count.\n"
     ]
    }
   ],
   "source": [
    "!pip install cdt\n",
    "from cdt.metrics import SHD_CPDAG"
   ]
  },
  {
   "cell_type": "code",
   "execution_count": 3,
   "id": "6a714c1c",
   "metadata": {},
   "outputs": [
    {
     "name": "stderr",
     "output_type": "stream",
     "text": [
      "\n",
      "[notice] A new release of pip is available: 25.1.1 -> 25.2\n",
      "[notice] To update, run: python.exe -m pip install --upgrade pip\n",
      "Error importing in API mode: ImportError('On Windows, cffi mode \"ANY\" is only \"ABI\".')\n",
      "Trying to import in ABI mode.\n"
     ]
    },
    {
     "name": "stdout",
     "output_type": "stream",
     "text": [
      "Requirement already satisfied: rpy2 in d:\\coding\\anaconda\\lib\\site-packages (3.6.2)\n",
      "Requirement already satisfied: rpy2-rinterface>=3.6.2 in d:\\coding\\anaconda\\lib\\site-packages (from rpy2) (3.6.2)\n",
      "Requirement already satisfied: rpy2-robjects>=3.6.1 in d:\\coding\\anaconda\\lib\\site-packages (from rpy2) (3.6.1)\n",
      "Requirement already satisfied: packaging in d:\\coding\\anaconda\\lib\\site-packages (from rpy2) (24.1)\n",
      "Requirement already satisfied: cffi>=1.15.1 in d:\\coding\\anaconda\\lib\\site-packages (from rpy2-rinterface>=3.6.2->rpy2) (1.17.1)\n",
      "Requirement already satisfied: pycparser in d:\\coding\\anaconda\\lib\\site-packages (from cffi>=1.15.1->rpy2-rinterface>=3.6.2->rpy2) (2.21)\n",
      "Requirement already satisfied: jinja2 in d:\\coding\\anaconda\\lib\\site-packages (from rpy2-robjects>=3.6.1->rpy2) (3.1.4)\n",
      "Requirement already satisfied: tzlocal in d:\\coding\\anaconda\\lib\\site-packages (from rpy2-robjects>=3.6.1->rpy2) (5.3.1)\n",
      "Requirement already satisfied: MarkupSafe>=2.0 in d:\\coding\\anaconda\\lib\\site-packages (from jinja2->rpy2-robjects>=3.6.1->rpy2) (2.1.3)\n",
      "Requirement already satisfied: tzdata in d:\\coding\\anaconda\\lib\\site-packages (from tzlocal->rpy2-robjects>=3.6.1->rpy2) (2023.3)\n",
      "[1] 2\n",
      "\n"
     ]
    }
   ],
   "source": [
    "!pip install rpy2\n",
    "import rpy2.robjects as ro\n",
    "print(ro.r('1+1'))"
   ]
  },
  {
   "cell_type": "code",
   "execution_count": 4,
   "id": "dda9c9ac",
   "metadata": {},
   "outputs": [
    {
     "name": "stdout",
     "output_type": "stream",
     "text": [
      "R.home() = D:/coding/R-4.5.1\n",
      ".libPaths() = ['D:/coding/R-4.5.1/library']\n",
      "pcalg import OK\n"
     ]
    }
   ],
   "source": [
    "import os\n",
    "import rpy2.robjects as ro\n",
    "from rpy2.robjects.packages import importr\n",
    "\n",
    "print(\"R.home() =\", ro.r('R.home()')[0])\n",
    "print(\".libPaths() =\", list(ro.r('.libPaths()')))\n",
    "\n",
    "# 看 rpy2 实际能否加载 pcalg\n",
    "try:\n",
    "    importr('pcalg')\n",
    "    print('pcalg import OK')\n",
    "except Exception as e:\n",
    "    print('pcalg NOT found ->', e)"
   ]
  },
  {
   "cell_type": "code",
   "execution_count": 5,
   "id": "54faf536",
   "metadata": {},
   "outputs": [],
   "source": [
    "from itertools import permutations\n",
    "from numpy.linalg import inv, cholesky, LinAlgError\n",
    "\n",
    "\n",
    "def find_L_with_best_l1(Sigma, verbose = False):\n",
    "    d = len(Sigma[0])\n",
    "    best_L, best_P = None, None\n",
    "    best_l1 = np.inf\n",
    "    for perm in permutations(range(d)):\n",
    "        P = np.eye(d)[list(perm)]  # permutation matrix\n",
    "\n",
    "        # Step 2: permute covariance\n",
    "        Sigma_perm = P @ Sigma @ P.T\n",
    "\n",
    "        try:\n",
    "            # Step 3: compute precision matrix\n",
    "            Theta = inv(Sigma_perm)\n",
    "            # Step 4: Cholesky decomposition (Theta = L L^T)\n",
    "            L = cholesky(Theta)\n",
    "\n",
    "            l1_norm = np.linalg.norm(L, ord=1)\n",
    "            \n",
    "            # print(\"score =\",score)\n",
    "            if l1_norm < best_l1:\n",
    "                best_l1 = l1_norm\n",
    "                best_P = P\n",
    "                best_L = P.T @ L @ P\n",
    "                \n",
    "                if verbose:\n",
    "                    print(f\"New best score {l1_norm} with permutation {perm}\")\n",
    "        except LinAlgError:\n",
    "            continue\n",
    "\n",
    "    return best_L, best_P, best_l1\n"
   ]
  },
  {
   "cell_type": "code",
   "execution_count": 6,
   "id": "e22dfe15",
   "metadata": {},
   "outputs": [],
   "source": [
    "def l0_norm(U, threshold=0.05):\n",
    "    \"\"\"\n",
    "    Count the number of non-zero off-diagonal elements in the upper triangular matrix U.\n",
    "    \"\"\"\n",
    "    p = U.shape[0]\n",
    "    count = 0\n",
    "    for i in range(p):\n",
    "        for j in range(p):\n",
    "            if abs(U[i, j]) > threshold:\n",
    "                count += 1\n",
    "    return count"
   ]
  },
  {
   "cell_type": "code",
   "execution_count": 7,
   "id": "c9675c12",
   "metadata": {},
   "outputs": [
    {
     "name": "stdout",
     "output_type": "stream",
     "text": [
      "Average true L1 =  3.8768266368515487\n",
      "Average estimated L1 =  3.014575555181141\n",
      "Average true L0 =  16.09\n",
      "Average estimated L0 =  19.72\n",
      "Proportion of estimated L1 < true L1 0.91\n",
      "SHD_CPDAG =  11.58\n"
     ]
    }
   ],
   "source": [
    "\n",
    "from scipy.linalg import sqrtm\n",
    "\n",
    "n, d = 10000, 8\n",
    "graph_type, degree = 'ER', 2    # ER2 graph\n",
    "B_scale = 1.0\n",
    "noise_type = 'gaussian_nv'\n",
    "times = 100\n",
    "l0_tol_est = 0\n",
    "l0_tol_true = 0\n",
    "l1_tol_true = 0\n",
    "l1_tol_est = 0\n",
    "proportion = 0\n",
    "shd_cpdag_tol = 0\n",
    "for t in range(times):\n",
    "    dataset = SyntheticDataset(n, d, graph_type, degree,\n",
    "                            noise_type, B_scale, seed = t)\n",
    "    X = dataset.X.T\n",
    "    #print(X.shape)\n",
    "    B_true = dataset.B_bin\n",
    "    W_true = dataset.B\n",
    "    N = dataset.N\n",
    "    Omega_true = np.diag(N)\n",
    "    Sigma_hat = np.cov(X)\n",
    "    Theta_hat = inv(Sigma_hat)\n",
    "    #print(Sigma_hat.shape)\n",
    "    Theta_true = (np.eye(d) - W_true) @ inv(Omega_true) @ (np.eye(d) - W_true.T)\n",
    "    Sigma_true = inv(Theta_true)\n",
    "\n",
    "    L_true = (np.eye(d) - W_true) @ inv(sqrtm(Omega_true))\n",
    "    likelihood_true = - 2 * np.log(np.linalg.det(L_true)) + np.trace(L_true.T @ Sigma_true @ L_true)\n",
    "\n",
    "    likelihood_hat = - 2 * np.log(np.linalg.det(L_true)) + np.trace(L_true.T @ Sigma_hat @ L_true)\n",
    "    l1_true = np.linalg.norm(L_true, ord=1)\n",
    "\n",
    "    #print(\"likelihood_true = \", likelihood_true)\n",
    "    #print(\"likelihood_hat = \", likelihood_hat)\n",
    "    #print(\"l1_true = \", l1_true)\n",
    "\n",
    "    L_est, P_est, l1_est = find_L_with_best_l1(Sigma_hat)\n",
    "    W_est = np.eye(d) - L_est\n",
    "    B_est = weight_to_adjacency(W_est, 0.1)\n",
    "    likelihood_est = - 2 * np.log(np.linalg.det(L_est)) + np.trace(L_est.T @ Sigma_hat @ L_est)\n",
    "    l1_est = np.linalg.norm(L_est, ord=1)\n",
    "\n",
    "    l1_tol_true += l1_true\n",
    "    l1_tol_est  += l1_est\n",
    "    l0_tol_est += l0_norm(L_est)\n",
    "    l0_tol_true += l0_norm(L_true)\n",
    "    shd_cpdag_tol += SHD_CPDAG(B_true, B_est)\n",
    "\n",
    "    if l1_est < l1_true:\n",
    "        proportion += 1\n",
    "\n",
    "    #print(\"likelihood_est = \", likelihood_est)\n",
    "    #print(\"l1_est = \", l1_est)\n",
    "\n",
    "    #print(\"L_true l0 =\\n \", l0_norm(L_true))\n",
    "    #print(\"L_est l0=\\n \", l0_norm(L_est))\n",
    "\n",
    "l1_est_avg = l1_tol_est / times\n",
    "l1_true_avg = l1_tol_true / times\n",
    "l0_est_avg = l0_tol_est / times\n",
    "l0_true_avg = l0_tol_true / times\n",
    "proportion /= 100\n",
    "shd_cpdag_avg = shd_cpdag_tol / 100\n",
    "\n",
    "print(\"Average true L1 = \",l1_true_avg)\n",
    "print(\"Average estimated L1 = \", l1_est_avg)\n",
    "print(\"Average true L0 = \",l0_true_avg)\n",
    "print(\"Average estimated L0 = \", l0_est_avg)\n",
    "print(\"Proportion of estimated L1 < true L1\", proportion)\n",
    "print(\"SHD_CPDAG = \", shd_cpdag_avg)\n",
    "\n",
    "\n",
    "\n",
    "    "
   ]
  },
  {
   "cell_type": "code",
   "execution_count": null,
   "id": "bbf7dad0",
   "metadata": {},
   "outputs": [],
   "source": []
  },
  {
   "cell_type": "code",
   "execution_count": 13,
   "id": "42f1df20",
   "metadata": {},
   "outputs": [
    {
     "name": "stdout",
     "output_type": "stream",
     "text": [
      "7.1588830833596715\n",
      "7.1588830833596715\n"
     ]
    }
   ],
   "source": [
    "b1 = np.array([[0, 0.5, 0],[0, 0, 0],[0, -1, 0]])\n",
    "b2 = np.array([[0, 0.5, 0.1],[0, 0, -0.2], [0, 0, 0]])\n",
    "Omega1 = np.array([[16, 0, 0],[0, 4, 0],[0, 0, 1]])\n",
    "Omega2 = np.array([[16, 0, 0],[0 ,5, 0],[0, 0, 0.8]])\n",
    "\n",
    "l1 = (np.eye(3) - b1) @ inv(sqrtm(Omega1))\n",
    "l2 = (np.eye(3) - b2) @ inv(sqrtm(Omega2))\n",
    "\n",
    "Theta1 = (np.eye(3) - b1) @ inv(Omega1) @ (np.eye(3) - b1.T)\n",
    "Theta2 = (np.eye(3) - b2) @ inv(Omega2) @ (np.eye(3) - b2.T)\n",
    "\n",
    "Sigma1 = inv(Theta1)\n",
    "Sigma2 = inv(Theta2)\n",
    "\n",
    "print(- 2 * np.log(np.linalg.det(l1)) + np.trace(l1.T @ Sigma1 @ l1))\n",
    "print(- 2 * np.log(np.linalg.det(l2)) + np.trace(l2.T @ Sigma2 @ l2))\n",
    "\n"
   ]
  },
  {
   "cell_type": "code",
   "execution_count": null,
   "id": "ec4e6833",
   "metadata": {},
   "outputs": [],
   "source": []
  }
 ],
 "metadata": {
  "kernelspec": {
   "display_name": "base",
   "language": "python",
   "name": "python3"
  },
  "language_info": {
   "codemirror_mode": {
    "name": "ipython",
    "version": 3
   },
   "file_extension": ".py",
   "mimetype": "text/x-python",
   "name": "python",
   "nbconvert_exporter": "python",
   "pygments_lexer": "ipython3",
   "version": "3.12.3"
  }
 },
 "nbformat": 4,
 "nbformat_minor": 5
}
