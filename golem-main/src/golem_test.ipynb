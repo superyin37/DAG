{
 "cells": [
  {
   "cell_type": "code",
   "execution_count": 2,
   "id": "7dd5fadb",
   "metadata": {},
   "outputs": [],
   "source": [
    "import os\n",
    "import numpy as np\n",
    "\n",
    "from models import GolemModel\n",
    "from trainers import GolemTrainer\n",
    "from data_loader import SyntheticDataset\n",
    "from data_loader import SCM_data\n",
    "\n",
    "from utils import MEC\n",
    "\n",
    "\n",
    "# For logging of tensorflow messages\n",
    "os.environ['TF_CPP_MIN_LOG_LEVEL'] = '2'\n",
    "\n",
    "\n",
    "def golem(X, lambda_1, lambda_2, equal_variances=True,\n",
    "          num_iter=1e+5, learning_rate=1e-3, seed=1,\n",
    "          checkpoint_iter=None, output_dir=None, B_init=None):\n",
    "    \"\"\"Solve the unconstrained optimization problem of GOLEM, which involves\n",
    "        GolemModel and GolemTrainer.\n",
    "\n",
    "    Args:\n",
    "        X (numpy.ndarray): [n, d] data matrix.\n",
    "        lambda_1 (float): Coefficient of L1 penalty.\n",
    "        lambda_2 (float): Coefficient of DAG penalty.\n",
    "        equal_variances (bool): Whether to assume equal noise variances\n",
    "            for likelibood objective. Default: True.\n",
    "        num_iter (int): Number of iterations for training.\n",
    "        learning_rate (float): Learning rate of Adam optimizer. Default: 1e-3.\n",
    "        seed (int): Random seed. Default: 1.\n",
    "        checkpoint_iter (int): Number of iterations between each checkpoint.\n",
    "            Set to None to disable. Default: None.\n",
    "        output_dir (str): Output directory to save training outputs.\n",
    "        B_init (numpy.ndarray or None): [d, d] weighted matrix for initialization.\n",
    "            Set to None to disable. Default: None.\n",
    "\n",
    "    Returns:\n",
    "        numpy.ndarray: [d, d] estimated weighted matrix.\n",
    "\n",
    "    Hyperparameters:\n",
    "        (1) GOLEM-NV: equal_variances=False, lambda_1=2e-3, lambda_2=5.0.\n",
    "        (2) GOLEM-EV: equal_variances=True, lambda_1=2e-2, lambda_2=5.0.\n",
    "    \"\"\"\n",
    "    # Center the data\n",
    "    X = X - X.mean(axis=0, keepdims=True)\n",
    "\n",
    "    # Set up model\n",
    "    n, d = X.shape\n",
    "    model = GolemModel(n, d, lambda_1, lambda_2, equal_variances, seed, B_init)\n",
    "\n",
    "    # Training\n",
    "    trainer = GolemTrainer(learning_rate)\n",
    "    B_est = trainer.train(model, X, num_iter, checkpoint_iter, output_dir)\n",
    "\n",
    "    return B_est    # Not thresholded yet\n",
    "\n",
    "def weight_to_adjacency(W, threshold=0.05):\n",
    "    \"\"\"\n",
    "    Convert a weight matrix to an adjacency matrix.\n",
    "    \n",
    "    Parameters:\n",
    "        W (np.ndarray): Weight matrix (square matrix).\n",
    "        threshold (float): Values with absolute weight <= threshold are treated as 0.\n",
    "    \n",
    "    Returns:\n",
    "        np.ndarray: Binary adjacency matrix of the same shape.\n",
    "    \"\"\"\n",
    "    if not isinstance(W, np.ndarray):\n",
    "        raise TypeError(\"Input W must be a numpy array.\")\n",
    "    if W.shape[0] != W.shape[1]:\n",
    "        raise ValueError(\"Input W must be a square matrix.\")\n",
    "    \n",
    "    G = (np.abs(W) > threshold).astype(int)\n",
    "    return G\n"
   ]
  },
  {
   "cell_type": "code",
   "execution_count": 3,
   "id": "9280c219",
   "metadata": {},
   "outputs": [
    {
     "name": "stdout",
     "output_type": "stream",
     "text": [
      "WARNING:tensorflow:From c:\\Users\\super\\DAG\\golem-main\\src\\models\\golem_model.py:71: The name tf.train.AdamOptimizer is deprecated. Please use tf.compat.v1.train.AdamOptimizer instead.\n",
      "\n"
     ]
    },
    {
     "name": "stderr",
     "output_type": "stream",
     "text": [
      "2025-08-04 21:43:18,347 WARNING - tensorflow - From c:\\Users\\super\\DAG\\golem-main\\src\\models\\golem_model.py:71: The name tf.train.AdamOptimizer is deprecated. Please use tf.compat.v1.train.AdamOptimizer instead.\n",
      "\n",
      "2025-08-04 21:43:18,762 INFO - trainers.golem_trainer - Started training for 10000.0 iterations.\n"
     ]
    },
    {
     "name": "stdout",
     "output_type": "stream",
     "text": [
      "pattern 1\n",
      "G_true = \n",
      " [[0 0 0]\n",
      " [0 0 0]\n",
      " [0 0 0]]\n",
      "G_est = \n",
      " [[0 0 0]\n",
      " [0 0 0]\n",
      " [0 0 0]]\n"
     ]
    },
    {
     "name": "stderr",
     "output_type": "stream",
     "text": [
      "2025-08-04 21:43:29,482 INFO - trainers.golem_trainer - Started training for 10000.0 iterations.\n"
     ]
    },
    {
     "name": "stdout",
     "output_type": "stream",
     "text": [
      "pattern 2\n",
      "G_true = \n",
      " [[0 1 0]\n",
      " [0 0 0]\n",
      " [0 0 0]]\n",
      "G_est = \n",
      " [[0 1 0]\n",
      " [0 0 0]\n",
      " [0 0 0]]\n"
     ]
    },
    {
     "name": "stderr",
     "output_type": "stream",
     "text": [
      "2025-08-04 21:43:40,430 INFO - trainers.golem_trainer - Started training for 10000.0 iterations.\n"
     ]
    },
    {
     "name": "stdout",
     "output_type": "stream",
     "text": [
      "pattern 3\n",
      "G_true = \n",
      " [[0 1 0]\n",
      " [0 0 0]\n",
      " [0 1 0]]\n",
      "G_est = \n",
      " [[0 1 0]\n",
      " [0 0 0]\n",
      " [0 1 0]]\n"
     ]
    },
    {
     "name": "stderr",
     "output_type": "stream",
     "text": [
      "2025-08-04 21:43:51,250 INFO - trainers.golem_trainer - Started training for 10000.0 iterations.\n"
     ]
    },
    {
     "name": "stdout",
     "output_type": "stream",
     "text": [
      "pattern 4\n",
      "G_true = \n",
      " [[0 1 0]\n",
      " [0 0 1]\n",
      " [0 0 0]]\n",
      "G_est = \n",
      " [[0 1 0]\n",
      " [0 0 1]\n",
      " [0 0 0]]\n"
     ]
    },
    {
     "name": "stderr",
     "output_type": "stream",
     "text": [
      "2025-08-04 21:44:02,306 INFO - trainers.golem_trainer - Started training for 10000.0 iterations.\n"
     ]
    },
    {
     "name": "stdout",
     "output_type": "stream",
     "text": [
      "pattern 5\n",
      "G_true = \n",
      " [[0 1 1]\n",
      " [0 0 1]\n",
      " [0 0 0]]\n",
      "G_est = \n",
      " [[0 1 1]\n",
      " [0 0 1]\n",
      " [0 0 0]]\n"
     ]
    }
   ],
   "source": [
    "import logging\n",
    "\n",
    "from data_loader import SyntheticDataset\n",
    "from data_loader.synthetic_dataset import dataset_based_on_B\n",
    "from utils.train import postprocess\n",
    "from utils.utils import count_accuracy, set_seed\n",
    "\n",
    "# Setup for logging\n",
    "# Required for printing histories if checkpointing is activated\n",
    "logging.basicConfig(\n",
    "    level=logging.INFO,\n",
    "    format='%(asctime)s %(levelname)s - %(name)s - %(message)s'\n",
    ")\n",
    "\n",
    "# Reproducibility\n",
    "set_seed(1)\n",
    "\n",
    "# Load dataset\n",
    "n, d = 1000, 4\n",
    "graph_type, degree = 'ER', 0.5    # ER2 graph\n",
    "B_scale = 1.0\n",
    "noise_type = 'gaussian_ev'\n",
    "#dataset = SyntheticDataset(n, d, graph_type, degree,\n",
    "#                           noise_type, B_scale, seed=1)\n",
    "\n",
    "'''\n",
    "times = 20\n",
    "for i in range(1, 6):\n",
    "    true_count = [0] * 6\n",
    "    for seed in range(times):\n",
    "        X, Y, Z, G_true, CPDAG = SCM_data.generate_scm_data(i,10000, seed = seed)\n",
    "        data = np.array([X, Y, Z]).T\n",
    "        #print(data.T@ data / 10000)\n",
    "        W_est = golem(data, lambda_1=2e-2, lambda_2=5.0,\n",
    "                equal_variances=True, num_iter=1e+4)\n",
    "        G_est = weight_to_adjacency(W_est, 0.05)\n",
    "        if MEC.is_in_markov_equiv_class(G_true, G_est): true_count[i-1] += 1\n",
    "    print(f\"SCM {i} : {true_count[i-1]/times}\")\n",
    "'''\n",
    "\n",
    "for i in range(1, 6):\n",
    "    X, Y, Z, G_true, CPDAG = SCM_data.generate_scm_data(i,10000, seed = 1)\n",
    "    data = np.array([X, Y, Z]).T\n",
    "    W_est = golem(data, lambda_1=2e-2, lambda_2=5.0,\n",
    "                equal_variances=True, num_iter=1e+4)\n",
    "    G_est = weight_to_adjacency(W_est, 0.05)\n",
    "    print(\"pattern\",i)\n",
    "    print(\"G_true = \\n\",G_true)\n",
    "    print(\"G_est = \\n\",G_est)"
   ]
  },
  {
   "cell_type": "code",
   "execution_count": 4,
   "id": "1a40df35",
   "metadata": {},
   "outputs": [
    {
     "name": "stderr",
     "output_type": "stream",
     "text": [
      "2025-08-04 21:46:07,680 INFO - trainers.golem_trainer - Started training for 10000.0 iterations.\n",
      "2025-08-04 21:46:18,282 INFO - trainers.golem_trainer - Started training for 10000.0 iterations.\n",
      "2025-08-04 21:46:29,203 INFO - trainers.golem_trainer - Started training for 10000.0 iterations.\n",
      "2025-08-04 21:46:39,717 INFO - trainers.golem_trainer - Started training for 10000.0 iterations.\n",
      "2025-08-04 21:46:50,493 INFO - trainers.golem_trainer - Started training for 10000.0 iterations.\n",
      "2025-08-04 21:47:01,736 INFO - trainers.golem_trainer - Started training for 10000.0 iterations.\n",
      "2025-08-04 21:47:12,495 INFO - trainers.golem_trainer - Started training for 10000.0 iterations.\n",
      "2025-08-04 21:47:23,337 INFO - trainers.golem_trainer - Started training for 10000.0 iterations.\n",
      "2025-08-04 21:47:34,305 INFO - trainers.golem_trainer - Started training for 10000.0 iterations.\n",
      "2025-08-04 21:47:45,034 INFO - trainers.golem_trainer - Started training for 10000.0 iterations.\n",
      "2025-08-04 21:47:56,769 INFO - trainers.golem_trainer - Started training for 10000.0 iterations.\n",
      "2025-08-04 21:48:08,033 INFO - trainers.golem_trainer - Started training for 10000.0 iterations.\n",
      "2025-08-04 21:48:18,854 INFO - trainers.golem_trainer - Started training for 10000.0 iterations.\n",
      "2025-08-04 21:48:29,565 INFO - trainers.golem_trainer - Started training for 10000.0 iterations.\n",
      "2025-08-04 21:48:40,253 INFO - trainers.golem_trainer - Started training for 10000.0 iterations.\n",
      "2025-08-04 21:48:50,919 INFO - trainers.golem_trainer - Started training for 10000.0 iterations.\n",
      "2025-08-04 21:49:01,852 INFO - trainers.golem_trainer - Started training for 10000.0 iterations.\n",
      "2025-08-04 21:49:12,777 INFO - trainers.golem_trainer - Started training for 10000.0 iterations.\n",
      "2025-08-04 21:49:23,798 INFO - trainers.golem_trainer - Started training for 10000.0 iterations.\n",
      "2025-08-04 21:49:34,659 INFO - trainers.golem_trainer - Started training for 10000.0 iterations.\n"
     ]
    },
    {
     "name": "stdout",
     "output_type": "stream",
     "text": [
      "SCM 1 : 1.0\n"
     ]
    },
    {
     "name": "stderr",
     "output_type": "stream",
     "text": [
      "2025-08-04 21:49:45,285 INFO - trainers.golem_trainer - Started training for 10000.0 iterations.\n",
      "2025-08-04 21:49:56,043 INFO - trainers.golem_trainer - Started training for 10000.0 iterations.\n",
      "2025-08-04 21:50:06,844 INFO - trainers.golem_trainer - Started training for 10000.0 iterations.\n",
      "2025-08-04 21:50:17,441 INFO - trainers.golem_trainer - Started training for 10000.0 iterations.\n",
      "2025-08-04 21:50:28,593 INFO - trainers.golem_trainer - Started training for 10000.0 iterations.\n",
      "2025-08-04 21:50:39,044 INFO - trainers.golem_trainer - Started training for 10000.0 iterations.\n",
      "2025-08-04 21:50:49,622 INFO - trainers.golem_trainer - Started training for 10000.0 iterations.\n",
      "2025-08-04 21:51:00,292 INFO - trainers.golem_trainer - Started training for 10000.0 iterations.\n",
      "2025-08-04 21:51:11,204 INFO - trainers.golem_trainer - Started training for 10000.0 iterations.\n",
      "2025-08-04 21:51:22,342 INFO - trainers.golem_trainer - Started training for 10000.0 iterations.\n",
      "2025-08-04 21:51:35,973 INFO - trainers.golem_trainer - Started training for 10000.0 iterations.\n",
      "2025-08-04 21:51:48,721 INFO - trainers.golem_trainer - Started training for 10000.0 iterations.\n",
      "2025-08-04 21:52:01,554 INFO - trainers.golem_trainer - Started training for 10000.0 iterations.\n",
      "2025-08-04 21:52:14,642 INFO - trainers.golem_trainer - Started training for 10000.0 iterations.\n",
      "2025-08-04 21:52:28,368 INFO - trainers.golem_trainer - Started training for 10000.0 iterations.\n",
      "2025-08-04 21:52:40,790 INFO - trainers.golem_trainer - Started training for 10000.0 iterations.\n",
      "2025-08-04 21:52:52,617 INFO - trainers.golem_trainer - Started training for 10000.0 iterations.\n",
      "2025-08-04 21:53:04,399 INFO - trainers.golem_trainer - Started training for 10000.0 iterations.\n",
      "2025-08-04 21:53:16,215 INFO - trainers.golem_trainer - Started training for 10000.0 iterations.\n",
      "2025-08-04 21:53:27,490 INFO - trainers.golem_trainer - Started training for 10000.0 iterations.\n"
     ]
    },
    {
     "name": "stdout",
     "output_type": "stream",
     "text": [
      "SCM 2 : 1.0\n"
     ]
    },
    {
     "name": "stderr",
     "output_type": "stream",
     "text": [
      "2025-08-04 21:53:38,976 INFO - trainers.golem_trainer - Started training for 10000.0 iterations.\n",
      "2025-08-04 21:53:50,325 INFO - trainers.golem_trainer - Started training for 10000.0 iterations.\n",
      "2025-08-04 21:54:01,685 INFO - trainers.golem_trainer - Started training for 10000.0 iterations.\n",
      "2025-08-04 21:54:12,528 INFO - trainers.golem_trainer - Started training for 10000.0 iterations.\n",
      "2025-08-04 21:54:23,336 INFO - trainers.golem_trainer - Started training for 10000.0 iterations.\n",
      "2025-08-04 21:54:34,797 INFO - trainers.golem_trainer - Started training for 10000.0 iterations.\n",
      "2025-08-04 21:54:45,744 INFO - trainers.golem_trainer - Started training for 10000.0 iterations.\n",
      "2025-08-04 21:54:56,777 INFO - trainers.golem_trainer - Started training for 10000.0 iterations.\n",
      "2025-08-04 21:55:08,137 INFO - trainers.golem_trainer - Started training for 10000.0 iterations.\n",
      "2025-08-04 21:55:22,345 INFO - trainers.golem_trainer - Started training for 10000.0 iterations.\n",
      "2025-08-04 21:55:36,420 INFO - trainers.golem_trainer - Started training for 10000.0 iterations.\n",
      "2025-08-04 21:55:49,141 INFO - trainers.golem_trainer - Started training for 10000.0 iterations.\n",
      "2025-08-04 21:56:02,696 INFO - trainers.golem_trainer - Started training for 10000.0 iterations.\n",
      "2025-08-04 21:56:15,981 INFO - trainers.golem_trainer - Started training for 10000.0 iterations.\n",
      "2025-08-04 21:56:30,142 INFO - trainers.golem_trainer - Started training for 10000.0 iterations.\n",
      "2025-08-04 21:56:43,245 INFO - trainers.golem_trainer - Started training for 10000.0 iterations.\n",
      "2025-08-04 21:56:56,333 INFO - trainers.golem_trainer - Started training for 10000.0 iterations.\n",
      "2025-08-04 21:57:08,968 INFO - trainers.golem_trainer - Started training for 10000.0 iterations.\n",
      "2025-08-04 21:57:21,247 INFO - trainers.golem_trainer - Started training for 10000.0 iterations.\n",
      "2025-08-04 21:57:33,925 INFO - trainers.golem_trainer - Started training for 10000.0 iterations.\n"
     ]
    },
    {
     "name": "stdout",
     "output_type": "stream",
     "text": [
      "SCM 3 : 0.0\n"
     ]
    },
    {
     "name": "stderr",
     "output_type": "stream",
     "text": [
      "2025-08-04 21:57:46,849 INFO - trainers.golem_trainer - Started training for 10000.0 iterations.\n",
      "2025-08-04 21:57:58,711 INFO - trainers.golem_trainer - Started training for 10000.0 iterations.\n",
      "2025-08-04 21:58:10,199 INFO - trainers.golem_trainer - Started training for 10000.0 iterations.\n",
      "2025-08-04 21:58:22,610 INFO - trainers.golem_trainer - Started training for 10000.0 iterations.\n",
      "2025-08-04 21:58:33,852 INFO - trainers.golem_trainer - Started training for 10000.0 iterations.\n",
      "2025-08-04 21:58:44,919 INFO - trainers.golem_trainer - Started training for 10000.0 iterations.\n",
      "2025-08-04 21:58:57,038 INFO - trainers.golem_trainer - Started training for 10000.0 iterations.\n",
      "2025-08-04 21:59:10,232 INFO - trainers.golem_trainer - Started training for 10000.0 iterations.\n",
      "2025-08-04 21:59:26,842 INFO - trainers.golem_trainer - Started training for 10000.0 iterations.\n",
      "2025-08-04 21:59:43,150 INFO - trainers.golem_trainer - Started training for 10000.0 iterations.\n",
      "2025-08-04 21:59:57,707 INFO - trainers.golem_trainer - Started training for 10000.0 iterations.\n",
      "2025-08-04 22:00:11,645 INFO - trainers.golem_trainer - Started training for 10000.0 iterations.\n",
      "2025-08-04 22:00:26,882 INFO - trainers.golem_trainer - Started training for 10000.0 iterations.\n",
      "2025-08-04 22:00:41,382 INFO - trainers.golem_trainer - Started training for 10000.0 iterations.\n",
      "2025-08-04 22:00:55,334 INFO - trainers.golem_trainer - Started training for 10000.0 iterations.\n",
      "2025-08-04 22:01:09,810 INFO - trainers.golem_trainer - Started training for 10000.0 iterations.\n",
      "2025-08-04 22:01:25,017 INFO - trainers.golem_trainer - Started training for 10000.0 iterations.\n",
      "2025-08-04 22:01:40,685 INFO - trainers.golem_trainer - Started training for 10000.0 iterations.\n",
      "2025-08-04 22:01:55,892 INFO - trainers.golem_trainer - Started training for 10000.0 iterations.\n",
      "2025-08-04 22:02:12,014 INFO - trainers.golem_trainer - Started training for 10000.0 iterations.\n"
     ]
    },
    {
     "name": "stdout",
     "output_type": "stream",
     "text": [
      "SCM 4 : 0.0\n"
     ]
    },
    {
     "name": "stderr",
     "output_type": "stream",
     "text": [
      "2025-08-04 22:02:27,387 INFO - trainers.golem_trainer - Started training for 10000.0 iterations.\n",
      "2025-08-04 22:02:42,914 INFO - trainers.golem_trainer - Started training for 10000.0 iterations.\n",
      "2025-08-04 22:02:57,929 INFO - trainers.golem_trainer - Started training for 10000.0 iterations.\n",
      "2025-08-04 22:03:13,070 INFO - trainers.golem_trainer - Started training for 10000.0 iterations.\n",
      "2025-08-04 22:03:27,840 INFO - trainers.golem_trainer - Started training for 10000.0 iterations.\n",
      "2025-08-04 22:03:42,884 INFO - trainers.golem_trainer - Started training for 10000.0 iterations.\n",
      "2025-08-04 22:03:58,447 INFO - trainers.golem_trainer - Started training for 10000.0 iterations.\n",
      "2025-08-04 22:04:13,983 INFO - trainers.golem_trainer - Started training for 10000.0 iterations.\n",
      "2025-08-04 22:04:27,877 INFO - trainers.golem_trainer - Started training for 10000.0 iterations.\n",
      "2025-08-04 22:04:40,683 INFO - trainers.golem_trainer - Started training for 10000.0 iterations.\n",
      "2025-08-04 22:50:13,727 INFO - trainers.golem_trainer - Started training for 10000.0 iterations.\n",
      "2025-08-04 22:50:28,127 INFO - trainers.golem_trainer - Started training for 10000.0 iterations.\n",
      "2025-08-04 22:50:41,620 INFO - trainers.golem_trainer - Started training for 10000.0 iterations.\n",
      "2025-08-04 22:50:53,882 INFO - trainers.golem_trainer - Started training for 10000.0 iterations.\n",
      "2025-08-04 22:51:06,486 INFO - trainers.golem_trainer - Started training for 10000.0 iterations.\n",
      "2025-08-04 22:51:18,941 INFO - trainers.golem_trainer - Started training for 10000.0 iterations.\n",
      "2025-08-04 22:51:31,494 INFO - trainers.golem_trainer - Started training for 10000.0 iterations.\n",
      "2025-08-04 22:51:43,146 INFO - trainers.golem_trainer - Started training for 10000.0 iterations.\n",
      "2025-08-04 22:51:54,296 INFO - trainers.golem_trainer - Started training for 10000.0 iterations.\n",
      "2025-08-04 22:52:05,183 INFO - trainers.golem_trainer - Started training for 10000.0 iterations.\n"
     ]
    },
    {
     "name": "stdout",
     "output_type": "stream",
     "text": [
      "SCM 5 : 1.0\n"
     ]
    }
   ],
   "source": [
    "times = 20\n",
    "for i in range(1, 6):\n",
    "    true_count = [0] * 6\n",
    "    for seed in range(times):\n",
    "        X, Y, Z, G_true, CPDAG = SCM_data.generate_scm_data(i,10000, seed = seed)\n",
    "        data = np.array([X, Y, Z]).T\n",
    "        #print(data.T@ data / 10000)\n",
    "        W_est = golem(data, lambda_1=2e-2, lambda_2=5.0,\n",
    "                equal_variances=False, num_iter=1e+4)\n",
    "        G_est = weight_to_adjacency(W_est, 0.05)\n",
    "        if MEC.is_in_markov_equiv_class(G_true, G_est): true_count[i-1] += 1\n",
    "    print(f\"SCM {i} : {true_count[i-1]/times}\")"
   ]
  },
  {
   "cell_type": "code",
   "execution_count": null,
   "id": "543e2faa",
   "metadata": {},
   "outputs": [],
   "source": []
  }
 ],
 "metadata": {
  "kernelspec": {
   "display_name": "base",
   "language": "python",
   "name": "python3"
  },
  "language_info": {
   "codemirror_mode": {
    "name": "ipython",
    "version": 3
   },
   "file_extension": ".py",
   "mimetype": "text/x-python",
   "name": "python",
   "nbconvert_exporter": "python",
   "pygments_lexer": "ipython3",
   "version": "3.12.3"
  }
 },
 "nbformat": 4,
 "nbformat_minor": 5
}
