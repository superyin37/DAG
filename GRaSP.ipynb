{
 "cells": [
  {
   "cell_type": "code",
   "execution_count": 2,
   "id": "16e51c60",
   "metadata": {},
   "outputs": [],
   "source": [
    "from causallearn.search.PermutationBased.GRaSP import grasp\n",
    "import numpy as np\n",
    "import SCM_data"
   ]
  },
  {
   "cell_type": "code",
   "execution_count": 16,
   "id": "15d831d5",
   "metadata": {},
   "outputs": [
    {
     "name": "stdout",
     "output_type": "stream",
     "text": [
      "SCM 1 : 1.0\n",
      "SCM 2 : 1.0\n",
      "[[ 0 -1  0]\n",
      " [ 1  0  1]\n",
      " [ 0 -1  0]]\n",
      "[[ 0 -1 -1]\n",
      " [-1  0 -1]\n",
      " [-1 -1  0]]\n",
      "SCM 3 : 0.99\n",
      "SCM 4 : 1.0\n",
      "SCM 5 : 1.0\n"
     ]
    }
   ],
   "source": [
    "times = 100\n",
    "for i in range(1, 6):\n",
    "    true_count = [0] * 6\n",
    "    for j in range(times):\n",
    "        X, Y, Z, G_true, CPDAG = SCM_data.generate_scm_data(i, n_samples=10000)\n",
    "\n",
    "        data = np.array([X, Y, Z]).T\n",
    "        G_est = grasp(data, verbose=False).graph\n",
    "        # equals\n",
    "        if np.array_equal(CPDAG, G_est): true_count[i-1] += 1\n",
    "        else:\n",
    "            print(CPDAG)\n",
    "            print(G_est)\n",
    "    print(f\"SCM {i} : {true_count[i-1]/times}\")"
   ]
  },
  {
   "cell_type": "code",
   "execution_count": null,
   "id": "1f07b884",
   "metadata": {},
   "outputs": [],
   "source": []
  }
 ],
 "metadata": {
  "kernelspec": {
   "display_name": "base",
   "language": "python",
   "name": "python3"
  },
  "language_info": {
   "codemirror_mode": {
    "name": "ipython",
    "version": 3
   },
   "file_extension": ".py",
   "mimetype": "text/x-python",
   "name": "python",
   "nbconvert_exporter": "python",
   "pygments_lexer": "ipython3",
   "version": "3.12.3"
  }
 },
 "nbformat": 4,
 "nbformat_minor": 5
}
